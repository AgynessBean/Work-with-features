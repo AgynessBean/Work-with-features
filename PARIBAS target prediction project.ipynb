{
 "cells": [
  {
   "cell_type": "markdown",
   "metadata": {},
   "source": [
    "In this notebook I work with the BNP Paribas dataset presented in the Kaggle competition in 2016 (https://www.kaggle.com/c/bnp-paribas-cardif-claims-management/data).\n",
    "\n",
    "The purpose of this priject is to:\n",
    "- apply the Column Transformer as the main tool of pre-processing\n",
    "- use three filter methods for feature selection: Basic (constant, quasi-constant and duplicate), correlation and statistical.\n",
    "- by saving copies of the same pre-processed dataset with features selected from using three methods of feature selection, apply an ML algorithm to observe any differences in the prediction."
   ]
  },
  {
   "cell_type": "code",
   "execution_count": 1,
   "metadata": {},
   "outputs": [],
   "source": [
    "import pandas as pd\n",
    "import numpy as np\n",
    "import matplotlib.pyplot as plt\n",
    "import seaborn as sb\n",
    "%matplotlib inline"
   ]
  },
  {
   "cell_type": "code",
   "execution_count": 2,
   "metadata": {},
   "outputs": [],
   "source": [
    "#importing 50,000 rows to spare RAM\n",
    "data = pd.read_csv('bnp-paribas-cardif-claims-management/train.csv',nrows=50000)"
   ]
  },
  {
   "cell_type": "code",
   "execution_count": 3,
   "metadata": {},
   "outputs": [
    {
     "data": {
      "text/plain": [
       "(50000, 133)"
      ]
     },
     "execution_count": 3,
     "metadata": {},
     "output_type": "execute_result"
    }
   ],
   "source": [
    "data.shape\n",
    "#133 features"
   ]
  },
  {
   "cell_type": "code",
   "execution_count": 4,
   "metadata": {},
   "outputs": [
    {
     "data": {
      "text/html": [
       "<div>\n",
       "<style scoped>\n",
       "    .dataframe tbody tr th:only-of-type {\n",
       "        vertical-align: middle;\n",
       "    }\n",
       "\n",
       "    .dataframe tbody tr th {\n",
       "        vertical-align: top;\n",
       "    }\n",
       "\n",
       "    .dataframe thead th {\n",
       "        text-align: right;\n",
       "    }\n",
       "</style>\n",
       "<table border=\"1\" class=\"dataframe\">\n",
       "  <thead>\n",
       "    <tr style=\"text-align: right;\">\n",
       "      <th></th>\n",
       "      <th>ID</th>\n",
       "      <th>target</th>\n",
       "      <th>v1</th>\n",
       "      <th>v2</th>\n",
       "      <th>v3</th>\n",
       "      <th>v4</th>\n",
       "      <th>v5</th>\n",
       "      <th>v6</th>\n",
       "      <th>v7</th>\n",
       "      <th>v8</th>\n",
       "      <th>...</th>\n",
       "      <th>v122</th>\n",
       "      <th>v123</th>\n",
       "      <th>v124</th>\n",
       "      <th>v125</th>\n",
       "      <th>v126</th>\n",
       "      <th>v127</th>\n",
       "      <th>v128</th>\n",
       "      <th>v129</th>\n",
       "      <th>v130</th>\n",
       "      <th>v131</th>\n",
       "    </tr>\n",
       "  </thead>\n",
       "  <tbody>\n",
       "    <tr>\n",
       "      <td>0</td>\n",
       "      <td>3</td>\n",
       "      <td>1</td>\n",
       "      <td>1.335739</td>\n",
       "      <td>8.727474</td>\n",
       "      <td>C</td>\n",
       "      <td>3.921026</td>\n",
       "      <td>7.915266</td>\n",
       "      <td>2.599278</td>\n",
       "      <td>3.176895</td>\n",
       "      <td>0.012941</td>\n",
       "      <td>...</td>\n",
       "      <td>8.000000</td>\n",
       "      <td>1.989780</td>\n",
       "      <td>0.035754</td>\n",
       "      <td>AU</td>\n",
       "      <td>1.804126</td>\n",
       "      <td>3.113719</td>\n",
       "      <td>2.024285</td>\n",
       "      <td>0</td>\n",
       "      <td>0.636365</td>\n",
       "      <td>2.857144</td>\n",
       "    </tr>\n",
       "    <tr>\n",
       "      <td>1</td>\n",
       "      <td>4</td>\n",
       "      <td>1</td>\n",
       "      <td>NaN</td>\n",
       "      <td>NaN</td>\n",
       "      <td>C</td>\n",
       "      <td>NaN</td>\n",
       "      <td>9.191265</td>\n",
       "      <td>NaN</td>\n",
       "      <td>NaN</td>\n",
       "      <td>2.301630</td>\n",
       "      <td>...</td>\n",
       "      <td>NaN</td>\n",
       "      <td>NaN</td>\n",
       "      <td>0.598896</td>\n",
       "      <td>AF</td>\n",
       "      <td>NaN</td>\n",
       "      <td>NaN</td>\n",
       "      <td>1.957825</td>\n",
       "      <td>0</td>\n",
       "      <td>NaN</td>\n",
       "      <td>NaN</td>\n",
       "    </tr>\n",
       "    <tr>\n",
       "      <td>2</td>\n",
       "      <td>5</td>\n",
       "      <td>1</td>\n",
       "      <td>0.943877</td>\n",
       "      <td>5.310079</td>\n",
       "      <td>C</td>\n",
       "      <td>4.410969</td>\n",
       "      <td>5.326159</td>\n",
       "      <td>3.979592</td>\n",
       "      <td>3.928571</td>\n",
       "      <td>0.019645</td>\n",
       "      <td>...</td>\n",
       "      <td>9.333333</td>\n",
       "      <td>2.477596</td>\n",
       "      <td>0.013452</td>\n",
       "      <td>AE</td>\n",
       "      <td>1.773709</td>\n",
       "      <td>3.922193</td>\n",
       "      <td>1.120468</td>\n",
       "      <td>2</td>\n",
       "      <td>0.883118</td>\n",
       "      <td>1.176472</td>\n",
       "    </tr>\n",
       "    <tr>\n",
       "      <td>3</td>\n",
       "      <td>6</td>\n",
       "      <td>1</td>\n",
       "      <td>0.797415</td>\n",
       "      <td>8.304757</td>\n",
       "      <td>C</td>\n",
       "      <td>4.225930</td>\n",
       "      <td>11.627438</td>\n",
       "      <td>2.097700</td>\n",
       "      <td>1.987549</td>\n",
       "      <td>0.171947</td>\n",
       "      <td>...</td>\n",
       "      <td>7.018256</td>\n",
       "      <td>1.812795</td>\n",
       "      <td>0.002267</td>\n",
       "      <td>CJ</td>\n",
       "      <td>1.415230</td>\n",
       "      <td>2.954381</td>\n",
       "      <td>1.990847</td>\n",
       "      <td>1</td>\n",
       "      <td>1.677108</td>\n",
       "      <td>1.034483</td>\n",
       "    </tr>\n",
       "    <tr>\n",
       "      <td>4</td>\n",
       "      <td>8</td>\n",
       "      <td>1</td>\n",
       "      <td>NaN</td>\n",
       "      <td>NaN</td>\n",
       "      <td>C</td>\n",
       "      <td>NaN</td>\n",
       "      <td>NaN</td>\n",
       "      <td>NaN</td>\n",
       "      <td>NaN</td>\n",
       "      <td>NaN</td>\n",
       "      <td>...</td>\n",
       "      <td>NaN</td>\n",
       "      <td>NaN</td>\n",
       "      <td>NaN</td>\n",
       "      <td>Z</td>\n",
       "      <td>NaN</td>\n",
       "      <td>NaN</td>\n",
       "      <td>NaN</td>\n",
       "      <td>0</td>\n",
       "      <td>NaN</td>\n",
       "      <td>NaN</td>\n",
       "    </tr>\n",
       "  </tbody>\n",
       "</table>\n",
       "<p>5 rows × 133 columns</p>\n",
       "</div>"
      ],
      "text/plain": [
       "   ID  target        v1        v2 v3        v4         v5        v6        v7  \\\n",
       "0   3       1  1.335739  8.727474  C  3.921026   7.915266  2.599278  3.176895   \n",
       "1   4       1       NaN       NaN  C       NaN   9.191265       NaN       NaN   \n",
       "2   5       1  0.943877  5.310079  C  4.410969   5.326159  3.979592  3.928571   \n",
       "3   6       1  0.797415  8.304757  C  4.225930  11.627438  2.097700  1.987549   \n",
       "4   8       1       NaN       NaN  C       NaN        NaN       NaN       NaN   \n",
       "\n",
       "         v8  ...      v122      v123      v124  v125      v126      v127  \\\n",
       "0  0.012941  ...  8.000000  1.989780  0.035754    AU  1.804126  3.113719   \n",
       "1  2.301630  ...       NaN       NaN  0.598896    AF       NaN       NaN   \n",
       "2  0.019645  ...  9.333333  2.477596  0.013452    AE  1.773709  3.922193   \n",
       "3  0.171947  ...  7.018256  1.812795  0.002267    CJ  1.415230  2.954381   \n",
       "4       NaN  ...       NaN       NaN       NaN     Z       NaN       NaN   \n",
       "\n",
       "       v128  v129      v130      v131  \n",
       "0  2.024285     0  0.636365  2.857144  \n",
       "1  1.957825     0       NaN       NaN  \n",
       "2  1.120468     2  0.883118  1.176472  \n",
       "3  1.990847     1  1.677108  1.034483  \n",
       "4       NaN     0       NaN       NaN  \n",
       "\n",
       "[5 rows x 133 columns]"
      ]
     },
     "execution_count": 4,
     "metadata": {},
     "output_type": "execute_result"
    }
   ],
   "source": [
    "data.head()\n",
    "#interestingly, the features are masked, so it is not clear what each represent,\n",
    "#except fot 'target', whcih will be the target variable in the machine learning model."
   ]
  },
  {
   "cell_type": "code",
   "execution_count": 5,
   "metadata": {},
   "outputs": [
    {
     "data": {
      "text/html": [
       "<div>\n",
       "<style scoped>\n",
       "    .dataframe tbody tr th:only-of-type {\n",
       "        vertical-align: middle;\n",
       "    }\n",
       "\n",
       "    .dataframe tbody tr th {\n",
       "        vertical-align: top;\n",
       "    }\n",
       "\n",
       "    .dataframe thead th {\n",
       "        text-align: right;\n",
       "    }\n",
       "</style>\n",
       "<table border=\"1\" class=\"dataframe\">\n",
       "  <thead>\n",
       "    <tr style=\"text-align: right;\">\n",
       "      <th></th>\n",
       "      <th>ID</th>\n",
       "      <th>target</th>\n",
       "      <th>v1</th>\n",
       "      <th>v2</th>\n",
       "      <th>v4</th>\n",
       "      <th>v5</th>\n",
       "      <th>v6</th>\n",
       "      <th>v7</th>\n",
       "      <th>v8</th>\n",
       "      <th>v9</th>\n",
       "      <th>...</th>\n",
       "      <th>v121</th>\n",
       "      <th>v122</th>\n",
       "      <th>v123</th>\n",
       "      <th>v124</th>\n",
       "      <th>v126</th>\n",
       "      <th>v127</th>\n",
       "      <th>v128</th>\n",
       "      <th>v129</th>\n",
       "      <th>v130</th>\n",
       "      <th>v131</th>\n",
       "    </tr>\n",
       "  </thead>\n",
       "  <tbody>\n",
       "    <tr>\n",
       "      <td>count</td>\n",
       "      <td>50000.000000</td>\n",
       "      <td>50000.000000</td>\n",
       "      <td>2.825600e+04</td>\n",
       "      <td>2.827300e+04</td>\n",
       "      <td>2.827300e+04</td>\n",
       "      <td>28757.000000</td>\n",
       "      <td>2.825600e+04</td>\n",
       "      <td>2.825600e+04</td>\n",
       "      <td>2.875900e+04</td>\n",
       "      <td>2.825000e+04</td>\n",
       "      <td>...</td>\n",
       "      <td>2.825300e+04</td>\n",
       "      <td>2.825000e+04</td>\n",
       "      <td>27883.000000</td>\n",
       "      <td>2.875900e+04</td>\n",
       "      <td>2.825600e+04</td>\n",
       "      <td>2.825600e+04</td>\n",
       "      <td>28757.000000</td>\n",
       "      <td>50000.000000</td>\n",
       "      <td>2.825100e+04</td>\n",
       "      <td>2.822900e+04</td>\n",
       "    </tr>\n",
       "    <tr>\n",
       "      <td>mean</td>\n",
       "      <td>50022.312260</td>\n",
       "      <td>0.761280</td>\n",
       "      <td>1.627072e+00</td>\n",
       "      <td>7.465676e+00</td>\n",
       "      <td>4.141489e+00</td>\n",
       "      <td>8.748120</td>\n",
       "      <td>2.431846e+00</td>\n",
       "      <td>2.481129e+00</td>\n",
       "      <td>1.497303e+00</td>\n",
       "      <td>9.021133e+00</td>\n",
       "      <td>...</td>\n",
       "      <td>2.741965e+00</td>\n",
       "      <td>6.806724e+00</td>\n",
       "      <td>3.564653</td>\n",
       "      <td>9.174948e-01</td>\n",
       "      <td>1.673111e+00</td>\n",
       "      <td>3.241485e+00</td>\n",
       "      <td>2.032836</td>\n",
       "      <td>0.311680</td>\n",
       "      <td>1.927961e+00</td>\n",
       "      <td>1.730599e+00</td>\n",
       "    </tr>\n",
       "    <tr>\n",
       "      <td>std</td>\n",
       "      <td>28868.452809</td>\n",
       "      <td>0.426306</td>\n",
       "      <td>1.087547e+00</td>\n",
       "      <td>2.966589e+00</td>\n",
       "      <td>1.149752e+00</td>\n",
       "      <td>2.035407</td>\n",
       "      <td>5.905720e-01</td>\n",
       "      <td>5.839629e-01</td>\n",
       "      <td>2.763315e+00</td>\n",
       "      <td>1.914957e+00</td>\n",
       "      <td>...</td>\n",
       "      <td>1.359786e+00</td>\n",
       "      <td>1.787556e+00</td>\n",
       "      <td>2.614468</td>\n",
       "      <td>2.091862e+00</td>\n",
       "      <td>5.030066e-01</td>\n",
       "      <td>1.626610e+00</td>\n",
       "      <td>1.072649</td>\n",
       "      <td>0.696064</td>\n",
       "      <td>1.262579e+00</td>\n",
       "      <td>1.126751e+00</td>\n",
       "    </tr>\n",
       "    <tr>\n",
       "      <td>min</td>\n",
       "      <td>3.000000</td>\n",
       "      <td>0.000000</td>\n",
       "      <td>-9.996497e-07</td>\n",
       "      <td>-5.829745e-07</td>\n",
       "      <td>-5.139327e-07</td>\n",
       "      <td>1.015466</td>\n",
       "      <td>-6.111700e-07</td>\n",
       "      <td>-9.468765e-07</td>\n",
       "      <td>-7.783778e-07</td>\n",
       "      <td>-9.828757e-07</td>\n",
       "      <td>...</td>\n",
       "      <td>-9.718290e-07</td>\n",
       "      <td>-8.650618e-07</td>\n",
       "      <td>0.139245</td>\n",
       "      <td>-9.993112e-07</td>\n",
       "      <td>7.963046e-08</td>\n",
       "      <td>-9.223798e-07</td>\n",
       "      <td>0.100454</td>\n",
       "      <td>0.000000</td>\n",
       "      <td>-9.824168e-07</td>\n",
       "      <td>-9.997049e-07</td>\n",
       "    </tr>\n",
       "    <tr>\n",
       "      <td>25%</td>\n",
       "      <td>25046.500000</td>\n",
       "      <td>1.000000</td>\n",
       "      <td>9.081862e-01</td>\n",
       "      <td>5.313193e+00</td>\n",
       "      <td>3.475341e+00</td>\n",
       "      <td>7.626093</td>\n",
       "      <td>2.062080e+00</td>\n",
       "      <td>2.101071e+00</td>\n",
       "      <td>8.658958e-02</td>\n",
       "      <td>7.851294e+00</td>\n",
       "      <td>...</td>\n",
       "      <td>1.789831e+00</td>\n",
       "      <td>5.636363e+00</td>\n",
       "      <td>1.967007</td>\n",
       "      <td>2.052545e-02</td>\n",
       "      <td>1.419520e+00</td>\n",
       "      <td>2.095875e+00</td>\n",
       "      <td>1.397034</td>\n",
       "      <td>0.000000</td>\n",
       "      <td>1.108055e+00</td>\n",
       "      <td>1.008403e+00</td>\n",
       "    </tr>\n",
       "    <tr>\n",
       "      <td>50%</td>\n",
       "      <td>49997.000000</td>\n",
       "      <td>1.000000</td>\n",
       "      <td>1.463753e+00</td>\n",
       "      <td>7.027493e+00</td>\n",
       "      <td>4.198941e+00</td>\n",
       "      <td>8.673604</td>\n",
       "      <td>2.408972e+00</td>\n",
       "      <td>2.447977e+00</td>\n",
       "      <td>3.892663e-01</td>\n",
       "      <td>9.037901e+00</td>\n",
       "      <td>...</td>\n",
       "      <td>2.433735e+00</td>\n",
       "      <td>6.728972e+00</td>\n",
       "      <td>2.742854</td>\n",
       "      <td>1.398637e-01</td>\n",
       "      <td>1.614076e+00</td>\n",
       "      <td>2.967717e+00</td>\n",
       "      <td>1.799131</td>\n",
       "      <td>0.000000</td>\n",
       "      <td>1.560976e+00</td>\n",
       "      <td>1.585366e+00</td>\n",
       "    </tr>\n",
       "    <tr>\n",
       "      <td>75%</td>\n",
       "      <td>75045.500000</td>\n",
       "      <td>1.000000</td>\n",
       "      <td>2.132564e+00</td>\n",
       "      <td>9.457496e+00</td>\n",
       "      <td>4.831845e+00</td>\n",
       "      <td>9.773080</td>\n",
       "      <td>2.772964e+00</td>\n",
       "      <td>2.831246e+00</td>\n",
       "      <td>1.633104e+00</td>\n",
       "      <td>1.021097e+01</td>\n",
       "      <td>...</td>\n",
       "      <td>3.385715e+00</td>\n",
       "      <td>7.906976e+00</td>\n",
       "      <td>4.112192</td>\n",
       "      <td>8.623687e-01</td>\n",
       "      <td>1.843418e+00</td>\n",
       "      <td>4.114361e+00</td>\n",
       "      <td>2.394756</td>\n",
       "      <td>0.000000</td>\n",
       "      <td>2.331035e+00</td>\n",
       "      <td>2.249999e+00</td>\n",
       "    </tr>\n",
       "    <tr>\n",
       "      <td>max</td>\n",
       "      <td>99900.000000</td>\n",
       "      <td>1.000000</td>\n",
       "      <td>2.000000e+01</td>\n",
       "      <td>1.887158e+01</td>\n",
       "      <td>1.183178e+01</td>\n",
       "      <td>20.000000</td>\n",
       "      <td>8.679004e+00</td>\n",
       "      <td>8.888889e+00</td>\n",
       "      <td>2.000000e+01</td>\n",
       "      <td>2.000000e+01</td>\n",
       "      <td>...</td>\n",
       "      <td>1.080301e+01</td>\n",
       "      <td>2.000000e+01</td>\n",
       "      <td>18.252446</td>\n",
       "      <td>2.000000e+01</td>\n",
       "      <td>1.563161e+01</td>\n",
       "      <td>1.760204e+01</td>\n",
       "      <td>13.052589</td>\n",
       "      <td>11.000000</td>\n",
       "      <td>2.000000e+01</td>\n",
       "      <td>2.000000e+01</td>\n",
       "    </tr>\n",
       "  </tbody>\n",
       "</table>\n",
       "<p>8 rows × 114 columns</p>\n",
       "</div>"
      ],
      "text/plain": [
       "                 ID        target            v1            v2            v4  \\\n",
       "count  50000.000000  50000.000000  2.825600e+04  2.827300e+04  2.827300e+04   \n",
       "mean   50022.312260      0.761280  1.627072e+00  7.465676e+00  4.141489e+00   \n",
       "std    28868.452809      0.426306  1.087547e+00  2.966589e+00  1.149752e+00   \n",
       "min        3.000000      0.000000 -9.996497e-07 -5.829745e-07 -5.139327e-07   \n",
       "25%    25046.500000      1.000000  9.081862e-01  5.313193e+00  3.475341e+00   \n",
       "50%    49997.000000      1.000000  1.463753e+00  7.027493e+00  4.198941e+00   \n",
       "75%    75045.500000      1.000000  2.132564e+00  9.457496e+00  4.831845e+00   \n",
       "max    99900.000000      1.000000  2.000000e+01  1.887158e+01  1.183178e+01   \n",
       "\n",
       "                 v5            v6            v7            v8            v9  \\\n",
       "count  28757.000000  2.825600e+04  2.825600e+04  2.875900e+04  2.825000e+04   \n",
       "mean       8.748120  2.431846e+00  2.481129e+00  1.497303e+00  9.021133e+00   \n",
       "std        2.035407  5.905720e-01  5.839629e-01  2.763315e+00  1.914957e+00   \n",
       "min        1.015466 -6.111700e-07 -9.468765e-07 -7.783778e-07 -9.828757e-07   \n",
       "25%        7.626093  2.062080e+00  2.101071e+00  8.658958e-02  7.851294e+00   \n",
       "50%        8.673604  2.408972e+00  2.447977e+00  3.892663e-01  9.037901e+00   \n",
       "75%        9.773080  2.772964e+00  2.831246e+00  1.633104e+00  1.021097e+01   \n",
       "max       20.000000  8.679004e+00  8.888889e+00  2.000000e+01  2.000000e+01   \n",
       "\n",
       "       ...          v121          v122          v123          v124  \\\n",
       "count  ...  2.825300e+04  2.825000e+04  27883.000000  2.875900e+04   \n",
       "mean   ...  2.741965e+00  6.806724e+00      3.564653  9.174948e-01   \n",
       "std    ...  1.359786e+00  1.787556e+00      2.614468  2.091862e+00   \n",
       "min    ... -9.718290e-07 -8.650618e-07      0.139245 -9.993112e-07   \n",
       "25%    ...  1.789831e+00  5.636363e+00      1.967007  2.052545e-02   \n",
       "50%    ...  2.433735e+00  6.728972e+00      2.742854  1.398637e-01   \n",
       "75%    ...  3.385715e+00  7.906976e+00      4.112192  8.623687e-01   \n",
       "max    ...  1.080301e+01  2.000000e+01     18.252446  2.000000e+01   \n",
       "\n",
       "               v126          v127          v128          v129          v130  \\\n",
       "count  2.825600e+04  2.825600e+04  28757.000000  50000.000000  2.825100e+04   \n",
       "mean   1.673111e+00  3.241485e+00      2.032836      0.311680  1.927961e+00   \n",
       "std    5.030066e-01  1.626610e+00      1.072649      0.696064  1.262579e+00   \n",
       "min    7.963046e-08 -9.223798e-07      0.100454      0.000000 -9.824168e-07   \n",
       "25%    1.419520e+00  2.095875e+00      1.397034      0.000000  1.108055e+00   \n",
       "50%    1.614076e+00  2.967717e+00      1.799131      0.000000  1.560976e+00   \n",
       "75%    1.843418e+00  4.114361e+00      2.394756      0.000000  2.331035e+00   \n",
       "max    1.563161e+01  1.760204e+01     13.052589     11.000000  2.000000e+01   \n",
       "\n",
       "               v131  \n",
       "count  2.822900e+04  \n",
       "mean   1.730599e+00  \n",
       "std    1.126751e+00  \n",
       "min   -9.997049e-07  \n",
       "25%    1.008403e+00  \n",
       "50%    1.585366e+00  \n",
       "75%    2.249999e+00  \n",
       "max    2.000000e+01  \n",
       "\n",
       "[8 rows x 114 columns]"
      ]
     },
     "execution_count": 5,
     "metadata": {},
     "output_type": "execute_result"
    }
   ],
   "source": [
    "data.describe()"
   ]
  },
  {
   "cell_type": "code",
   "execution_count": 6,
   "metadata": {},
   "outputs": [
    {
     "data": {
      "text/plain": [
       "['v1',\n",
       " 'v2',\n",
       " 'v3',\n",
       " 'v4',\n",
       " 'v5',\n",
       " 'v6',\n",
       " 'v7',\n",
       " 'v8',\n",
       " 'v9',\n",
       " 'v10',\n",
       " 'v11',\n",
       " 'v12',\n",
       " 'v13',\n",
       " 'v14',\n",
       " 'v15',\n",
       " 'v16',\n",
       " 'v17',\n",
       " 'v18',\n",
       " 'v19',\n",
       " 'v20',\n",
       " 'v21',\n",
       " 'v22',\n",
       " 'v23',\n",
       " 'v25',\n",
       " 'v26',\n",
       " 'v27',\n",
       " 'v28',\n",
       " 'v29',\n",
       " 'v30',\n",
       " 'v31',\n",
       " 'v32',\n",
       " 'v33',\n",
       " 'v34',\n",
       " 'v35',\n",
       " 'v36',\n",
       " 'v37',\n",
       " 'v39',\n",
       " 'v40',\n",
       " 'v41',\n",
       " 'v42',\n",
       " 'v43',\n",
       " 'v44',\n",
       " 'v45',\n",
       " 'v46',\n",
       " 'v48',\n",
       " 'v49',\n",
       " 'v50',\n",
       " 'v51',\n",
       " 'v52',\n",
       " 'v53',\n",
       " 'v54',\n",
       " 'v55',\n",
       " 'v56',\n",
       " 'v57',\n",
       " 'v58',\n",
       " 'v59',\n",
       " 'v60',\n",
       " 'v61',\n",
       " 'v63',\n",
       " 'v64',\n",
       " 'v65',\n",
       " 'v67',\n",
       " 'v68',\n",
       " 'v69',\n",
       " 'v70',\n",
       " 'v73',\n",
       " 'v76',\n",
       " 'v77',\n",
       " 'v78',\n",
       " 'v80',\n",
       " 'v81',\n",
       " 'v82',\n",
       " 'v83',\n",
       " 'v84',\n",
       " 'v85',\n",
       " 'v86',\n",
       " 'v87',\n",
       " 'v88',\n",
       " 'v89',\n",
       " 'v90',\n",
       " 'v91',\n",
       " 'v92',\n",
       " 'v93',\n",
       " 'v94',\n",
       " 'v95',\n",
       " 'v96',\n",
       " 'v97',\n",
       " 'v98',\n",
       " 'v99',\n",
       " 'v100',\n",
       " 'v101',\n",
       " 'v102',\n",
       " 'v103',\n",
       " 'v104',\n",
       " 'v105',\n",
       " 'v106',\n",
       " 'v107',\n",
       " 'v108',\n",
       " 'v109',\n",
       " 'v111',\n",
       " 'v112',\n",
       " 'v113',\n",
       " 'v114',\n",
       " 'v115',\n",
       " 'v116',\n",
       " 'v117',\n",
       " 'v118',\n",
       " 'v119',\n",
       " 'v120',\n",
       " 'v121',\n",
       " 'v122',\n",
       " 'v123',\n",
       " 'v124',\n",
       " 'v125',\n",
       " 'v126',\n",
       " 'v127',\n",
       " 'v128',\n",
       " 'v130',\n",
       " 'v131']"
      ]
     },
     "execution_count": 6,
     "metadata": {},
     "output_type": "execute_result"
    }
   ],
   "source": [
    "[col for col in data.columns if data[col].isnull().sum() > 0]\n",
    "#all the variables with missing data"
   ]
  },
  {
   "cell_type": "code",
   "execution_count": 7,
   "metadata": {},
   "outputs": [
    {
     "data": {
      "text/plain": [
       "<matplotlib.axes._subplots.AxesSubplot at 0x1a1f3d7e80>"
      ]
     },
     "execution_count": 7,
     "metadata": {},
     "output_type": "execute_result"
    },
    {
     "data": {
      "image/png": "[encoded data removed]",
      "text/plain": [
       "<Figure size 792x792 with 2 Axes>"
      ]
     },
     "metadata": {
      "needs_background": "light"
     },
     "output_type": "display_data"
    }
   ],
   "source": [
    "plt.figure(figsize=(11,11))\n",
    "sb.heatmap(data.corr(), cmap='coolwarm')"
   ]
  },
  {
   "cell_type": "markdown",
   "metadata": {},
   "source": [
    "A few observations about the data:\n",
    " - there are clearly some missing values that need to be dealt with\n",
    " - 114 features are numeric, and the rest are categorical or string - the latter will need to be encoded.\n",
    " - there are both some highly positively and negatively correlated values.\n",
    " \n",
    "Next, I will deal with the problems highlighted above."
   ]
  },
  {
   "cell_type": "markdown",
   "metadata": {},
   "source": [
    "Preprocessing \n",
    "\n"
   ]
  },
  {
   "cell_type": "code",
   "execution_count": 8,
   "metadata": {},
   "outputs": [
    {
     "name": "stdout",
     "output_type": "stream",
     "text": [
      "<class 'pandas.core.frame.DataFrame'>\n",
      "RangeIndex: 50000 entries, 0 to 49999\n",
      "Columns: 133 entries, ID to v131\n",
      "dtypes: float64(108), int64(6), object(19)\n",
      "memory usage: 50.7+ MB\n"
     ]
    }
   ],
   "source": [
    "#use info method to have a gage on what types of variables are present in the dataset.\n",
    "data.info()\n",
    "\n",
    "#since there are many variables in the dataset, I will extract and deal with numerics and\n",
    "#categorical variables separately."
   ]
  },
  {
   "cell_type": "code",
   "execution_count": 9,
   "metadata": {},
   "outputs": [],
   "source": [
    "numerics = ['int64', 'float64']\n",
    "numerical_vars = data.select_dtypes(include=numerics).columns"
   ]
  },
  {
   "cell_type": "code",
   "execution_count": 10,
   "metadata": {},
   "outputs": [],
   "source": [
    "#for numeric variables, I need to impute the missing values and standardize all variables. \n",
    "from sklearn.preprocessing import StandardScaler, LabelEncoder"
   ]
  },
  {
   "cell_type": "code",
   "execution_count": 11,
   "metadata": {},
   "outputs": [
    {
     "data": {
      "text/plain": [
       "['v3',\n",
       " 'v22',\n",
       " 'v30',\n",
       " 'v31',\n",
       " 'v52',\n",
       " 'v56',\n",
       " 'v91',\n",
       " 'v107',\n",
       " 'v112',\n",
       " 'v113',\n",
       " 'v125']"
      ]
     },
     "execution_count": 11,
     "metadata": {},
     "output_type": "execute_result"
    }
   ],
   "source": [
    "#imputing the missing values with mean value for that column\n",
    "data[numerical_vars[2:]] = data[numerical_vars[2:]].fillna(data[numerical_vars[2:]].mean())\n",
    "[col for col in data.columns if data[col].isnull().sum() > 0]\n",
    "#missing values remaining in what is potentially non-numeric variables in the set"
   ]
  },
  {
   "cell_type": "code",
   "execution_count": 12,
   "metadata": {},
   "outputs": [
    {
     "data": {
      "text/html": [
       "<div>\n",
       "<style scoped>\n",
       "    .dataframe tbody tr th:only-of-type {\n",
       "        vertical-align: middle;\n",
       "    }\n",
       "\n",
       "    .dataframe tbody tr th {\n",
       "        vertical-align: top;\n",
       "    }\n",
       "\n",
       "    .dataframe thead th {\n",
       "        text-align: right;\n",
       "    }\n",
       "</style>\n",
       "<table border=\"1\" class=\"dataframe\">\n",
       "  <thead>\n",
       "    <tr style=\"text-align: right;\">\n",
       "      <th></th>\n",
       "      <th>v3</th>\n",
       "      <th>v22</th>\n",
       "      <th>v24</th>\n",
       "      <th>v30</th>\n",
       "      <th>v31</th>\n",
       "      <th>v47</th>\n",
       "      <th>v52</th>\n",
       "      <th>v56</th>\n",
       "      <th>v66</th>\n",
       "      <th>v71</th>\n",
       "      <th>v74</th>\n",
       "      <th>v75</th>\n",
       "      <th>v79</th>\n",
       "      <th>v91</th>\n",
       "      <th>v107</th>\n",
       "      <th>v110</th>\n",
       "      <th>v112</th>\n",
       "      <th>v113</th>\n",
       "      <th>v125</th>\n",
       "    </tr>\n",
       "  </thead>\n",
       "  <tbody>\n",
       "    <tr>\n",
       "      <td>0</td>\n",
       "      <td>C</td>\n",
       "      <td>XDX</td>\n",
       "      <td>C</td>\n",
       "      <td>C</td>\n",
       "      <td>A</td>\n",
       "      <td>C</td>\n",
       "      <td>G</td>\n",
       "      <td>DI</td>\n",
       "      <td>C</td>\n",
       "      <td>F</td>\n",
       "      <td>B</td>\n",
       "      <td>D</td>\n",
       "      <td>E</td>\n",
       "      <td>A</td>\n",
       "      <td>E</td>\n",
       "      <td>B</td>\n",
       "      <td>O</td>\n",
       "      <td>NaN</td>\n",
       "      <td>AU</td>\n",
       "    </tr>\n",
       "    <tr>\n",
       "      <td>1</td>\n",
       "      <td>C</td>\n",
       "      <td>GUV</td>\n",
       "      <td>C</td>\n",
       "      <td>C</td>\n",
       "      <td>A</td>\n",
       "      <td>E</td>\n",
       "      <td>G</td>\n",
       "      <td>DY</td>\n",
       "      <td>A</td>\n",
       "      <td>F</td>\n",
       "      <td>B</td>\n",
       "      <td>D</td>\n",
       "      <td>D</td>\n",
       "      <td>B</td>\n",
       "      <td>B</td>\n",
       "      <td>A</td>\n",
       "      <td>U</td>\n",
       "      <td>G</td>\n",
       "      <td>AF</td>\n",
       "    </tr>\n",
       "    <tr>\n",
       "      <td>2</td>\n",
       "      <td>C</td>\n",
       "      <td>FQ</td>\n",
       "      <td>E</td>\n",
       "      <td>NaN</td>\n",
       "      <td>A</td>\n",
       "      <td>C</td>\n",
       "      <td>F</td>\n",
       "      <td>AS</td>\n",
       "      <td>A</td>\n",
       "      <td>B</td>\n",
       "      <td>B</td>\n",
       "      <td>B</td>\n",
       "      <td>E</td>\n",
       "      <td>G</td>\n",
       "      <td>C</td>\n",
       "      <td>B</td>\n",
       "      <td>S</td>\n",
       "      <td>NaN</td>\n",
       "      <td>AE</td>\n",
       "    </tr>\n",
       "    <tr>\n",
       "      <td>3</td>\n",
       "      <td>C</td>\n",
       "      <td>ACUE</td>\n",
       "      <td>D</td>\n",
       "      <td>C</td>\n",
       "      <td>B</td>\n",
       "      <td>C</td>\n",
       "      <td>H</td>\n",
       "      <td>BW</td>\n",
       "      <td>A</td>\n",
       "      <td>F</td>\n",
       "      <td>B</td>\n",
       "      <td>D</td>\n",
       "      <td>B</td>\n",
       "      <td>B</td>\n",
       "      <td>B</td>\n",
       "      <td>B</td>\n",
       "      <td>J</td>\n",
       "      <td>NaN</td>\n",
       "      <td>CJ</td>\n",
       "    </tr>\n",
       "    <tr>\n",
       "      <td>4</td>\n",
       "      <td>C</td>\n",
       "      <td>HIT</td>\n",
       "      <td>E</td>\n",
       "      <td>NaN</td>\n",
       "      <td>A</td>\n",
       "      <td>I</td>\n",
       "      <td>H</td>\n",
       "      <td>NaN</td>\n",
       "      <td>C</td>\n",
       "      <td>F</td>\n",
       "      <td>B</td>\n",
       "      <td>D</td>\n",
       "      <td>C</td>\n",
       "      <td>G</td>\n",
       "      <td>C</td>\n",
       "      <td>A</td>\n",
       "      <td>T</td>\n",
       "      <td>G</td>\n",
       "      <td>Z</td>\n",
       "    </tr>\n",
       "    <tr>\n",
       "      <td>5</td>\n",
       "      <td>C</td>\n",
       "      <td>AYX</td>\n",
       "      <td>A</td>\n",
       "      <td>NaN</td>\n",
       "      <td>A</td>\n",
       "      <td>I</td>\n",
       "      <td>K</td>\n",
       "      <td>DX</td>\n",
       "      <td>A</td>\n",
       "      <td>F</td>\n",
       "      <td>B</td>\n",
       "      <td>D</td>\n",
       "      <td>I</td>\n",
       "      <td>G</td>\n",
       "      <td>C</td>\n",
       "      <td>A</td>\n",
       "      <td>D</td>\n",
       "      <td>X</td>\n",
       "      <td>X</td>\n",
       "    </tr>\n",
       "    <tr>\n",
       "      <td>6</td>\n",
       "      <td>C</td>\n",
       "      <td>NFD</td>\n",
       "      <td>E</td>\n",
       "      <td>G</td>\n",
       "      <td>A</td>\n",
       "      <td>C</td>\n",
       "      <td>A</td>\n",
       "      <td>AS</td>\n",
       "      <td>A</td>\n",
       "      <td>F</td>\n",
       "      <td>B</td>\n",
       "      <td>D</td>\n",
       "      <td>E</td>\n",
       "      <td>B</td>\n",
       "      <td>B</td>\n",
       "      <td>B</td>\n",
       "      <td>I</td>\n",
       "      <td>NaN</td>\n",
       "      <td>BJ</td>\n",
       "    </tr>\n",
       "    <tr>\n",
       "      <td>7</td>\n",
       "      <td>C</td>\n",
       "      <td>AHBW</td>\n",
       "      <td>D</td>\n",
       "      <td>C</td>\n",
       "      <td>A</td>\n",
       "      <td>I</td>\n",
       "      <td>C</td>\n",
       "      <td>DP</td>\n",
       "      <td>C</td>\n",
       "      <td>F</td>\n",
       "      <td>B</td>\n",
       "      <td>D</td>\n",
       "      <td>C</td>\n",
       "      <td>A</td>\n",
       "      <td>E</td>\n",
       "      <td>A</td>\n",
       "      <td>F</td>\n",
       "      <td>M</td>\n",
       "      <td>BY</td>\n",
       "    </tr>\n",
       "    <tr>\n",
       "      <td>8</td>\n",
       "      <td>NaN</td>\n",
       "      <td>GKQ</td>\n",
       "      <td>E</td>\n",
       "      <td>NaN</td>\n",
       "      <td>NaN</td>\n",
       "      <td>D</td>\n",
       "      <td>H</td>\n",
       "      <td>AF</td>\n",
       "      <td>B</td>\n",
       "      <td>B</td>\n",
       "      <td>B</td>\n",
       "      <td>B</td>\n",
       "      <td>P</td>\n",
       "      <td>C</td>\n",
       "      <td>D</td>\n",
       "      <td>C</td>\n",
       "      <td>L</td>\n",
       "      <td>NaN</td>\n",
       "      <td>S</td>\n",
       "    </tr>\n",
       "    <tr>\n",
       "      <td>9</td>\n",
       "      <td>C</td>\n",
       "      <td>PYF</td>\n",
       "      <td>C</td>\n",
       "      <td>C</td>\n",
       "      <td>A</td>\n",
       "      <td>I</td>\n",
       "      <td>A</td>\n",
       "      <td>NaN</td>\n",
       "      <td>A</td>\n",
       "      <td>F</td>\n",
       "      <td>B</td>\n",
       "      <td>D</td>\n",
       "      <td>C</td>\n",
       "      <td>A</td>\n",
       "      <td>E</td>\n",
       "      <td>A</td>\n",
       "      <td>J</td>\n",
       "      <td>P</td>\n",
       "      <td>E</td>\n",
       "    </tr>\n",
       "  </tbody>\n",
       "</table>\n",
       "</div>"
      ],
      "text/plain": [
       "    v3   v22 v24  v30  v31 v47 v52  v56 v66 v71 v74 v75 v79 v91 v107 v110  \\\n",
       "0    C   XDX   C    C    A   C   G   DI   C   F   B   D   E   A    E    B   \n",
       "1    C   GUV   C    C    A   E   G   DY   A   F   B   D   D   B    B    A   \n",
       "2    C    FQ   E  NaN    A   C   F   AS   A   B   B   B   E   G    C    B   \n",
       "3    C  ACUE   D    C    B   C   H   BW   A   F   B   D   B   B    B    B   \n",
       "4    C   HIT   E  NaN    A   I   H  NaN   C   F   B   D   C   G    C    A   \n",
       "5    C   AYX   A  NaN    A   I   K   DX   A   F   B   D   I   G    C    A   \n",
       "6    C   NFD   E    G    A   C   A   AS   A   F   B   D   E   B    B    B   \n",
       "7    C  AHBW   D    C    A   I   C   DP   C   F   B   D   C   A    E    A   \n",
       "8  NaN   GKQ   E  NaN  NaN   D   H   AF   B   B   B   B   P   C    D    C   \n",
       "9    C   PYF   C    C    A   I   A  NaN   A   F   B   D   C   A    E    A   \n",
       "\n",
       "  v112 v113 v125  \n",
       "0    O  NaN   AU  \n",
       "1    U    G   AF  \n",
       "2    S  NaN   AE  \n",
       "3    J  NaN   CJ  \n",
       "4    T    G    Z  \n",
       "5    D    X    X  \n",
       "6    I  NaN   BJ  \n",
       "7    F    M   BY  \n",
       "8    L  NaN    S  \n",
       "9    J    P    E  "
      ]
     },
     "execution_count": 12,
     "metadata": {},
     "output_type": "execute_result"
    }
   ],
   "source": [
    "categorical_vars = data.select_dtypes(include='object').columns\n",
    "#removed list\n",
    "data[categorical_vars].head(10)\n"
   ]
  },
  {
   "cell_type": "code",
   "execution_count": 13,
   "metadata": {},
   "outputs": [
    {
     "data": {
      "text/plain": [
       "[]"
      ]
     },
     "execution_count": 13,
     "metadata": {},
     "output_type": "execute_result"
    }
   ],
   "source": [
    "#impute missing variables from the categorical variables too\n",
    "data[categorical_vars] = data[categorical_vars].fillna('missing')\n",
    "[col for col in data.columns if data[col].isnull().sum() > 0]\n",
    "#looks like no more mising values"
   ]
  },
  {
   "cell_type": "code",
   "execution_count": 14,
   "metadata": {},
   "outputs": [],
   "source": [
    "#all missing values have been imputed from the dataset, now it is time to encode the string values and standardize the numerical\n",
    "#will try Column Transformation \n",
    "from sklearn.compose import ColumnTransformer"
   ]
  },
  {
   "cell_type": "code",
   "execution_count": 15,
   "metadata": {},
   "outputs": [],
   "source": [
    "#Create a column transformer that will transform all columns in the X_train data frame.\n",
    "#The tranformer will encode the string variables and will standardidze the numericals.\n",
    "\n",
    "colT = ColumnTransformer(transformers=[('numeric', StandardScaler(),data[data.select_dtypes(include=numerics).columns[2:]]),\n",
    "                          ('string', LabelEncoder(),data[data.select_dtypes(include='object').columns])],remainder='passthrough')\n"
   ]
  },
  {
   "cell_type": "code",
   "execution_count": 16,
   "metadata": {},
   "outputs": [],
   "source": [
    "#transform the columns\n",
    "#data = colT.fit(data)\n",
    "#data = pd.DataFrame(data,index=np.arange(len(X_train)))\n",
    "#problems transforming. Will do without ColumnTransformer"
   ]
  },
  {
   "cell_type": "code",
   "execution_count": 17,
   "metadata": {},
   "outputs": [
    {
     "data": {
      "text/plain": [
       "Index(['v3', 'v22', 'v24', 'v30', 'v31', 'v47', 'v52', 'v56', 'v66', 'v71',\n",
       "       'v74', 'v75', 'v79', 'v91', 'v107', 'v110', 'v112', 'v113', 'v125'],\n",
       "      dtype='object')"
      ]
     },
     "execution_count": 17,
     "metadata": {},
     "output_type": "execute_result"
    }
   ],
   "source": [
    "categorical_vars"
   ]
  },
  {
   "cell_type": "code",
   "execution_count": 18,
   "metadata": {},
   "outputs": [],
   "source": [
    "#enumerate categorical (string) columns columns\n",
    "for val in categorical_vars:\n",
    "    le_val = LabelEncoder()\n",
    "    data[val] = le_val.fit_transform(data[val])\n",
    "    \n",
    "#Encoding string values\n",
    "#ordinal_label = {k: i for i, k in enumerate(X_train['v1'].unique(), 0)}\n",
    "#X_train['v1'] = X_train['v1'].map(ordinal_label)"
   ]
  },
  {
   "cell_type": "code",
   "execution_count": 19,
   "metadata": {},
   "outputs": [
    {
     "data": {
      "text/html": [
       "<div>\n",
       "<style scoped>\n",
       "    .dataframe tbody tr th:only-of-type {\n",
       "        vertical-align: middle;\n",
       "    }\n",
       "\n",
       "    .dataframe tbody tr th {\n",
       "        vertical-align: top;\n",
       "    }\n",
       "\n",
       "    .dataframe thead th {\n",
       "        text-align: right;\n",
       "    }\n",
       "</style>\n",
       "<table border=\"1\" class=\"dataframe\">\n",
       "  <thead>\n",
       "    <tr style=\"text-align: right;\">\n",
       "      <th></th>\n",
       "      <th>v3</th>\n",
       "      <th>v22</th>\n",
       "      <th>v24</th>\n",
       "      <th>v30</th>\n",
       "      <th>v31</th>\n",
       "      <th>v47</th>\n",
       "      <th>v52</th>\n",
       "      <th>v56</th>\n",
       "      <th>v66</th>\n",
       "      <th>v71</th>\n",
       "      <th>v74</th>\n",
       "      <th>v75</th>\n",
       "      <th>v79</th>\n",
       "      <th>v91</th>\n",
       "      <th>v107</th>\n",
       "      <th>v110</th>\n",
       "      <th>v112</th>\n",
       "      <th>v113</th>\n",
       "      <th>v125</th>\n",
       "    </tr>\n",
       "  </thead>\n",
       "  <tbody>\n",
       "    <tr>\n",
       "      <td>0</td>\n",
       "      <td>2</td>\n",
       "      <td>11572</td>\n",
       "      <td>2</td>\n",
       "      <td>2</td>\n",
       "      <td>0</td>\n",
       "      <td>2</td>\n",
       "      <td>6</td>\n",
       "      <td>74</td>\n",
       "      <td>2</td>\n",
       "      <td>3</td>\n",
       "      <td>1</td>\n",
       "      <td>3</td>\n",
       "      <td>4</td>\n",
       "      <td>0</td>\n",
       "      <td>4</td>\n",
       "      <td>1</td>\n",
       "      <td>14</td>\n",
       "      <td>34</td>\n",
       "      <td>21</td>\n",
       "    </tr>\n",
       "    <tr>\n",
       "      <td>1</td>\n",
       "      <td>2</td>\n",
       "      <td>5418</td>\n",
       "      <td>2</td>\n",
       "      <td>2</td>\n",
       "      <td>0</td>\n",
       "      <td>4</td>\n",
       "      <td>6</td>\n",
       "      <td>89</td>\n",
       "      <td>0</td>\n",
       "      <td>3</td>\n",
       "      <td>1</td>\n",
       "      <td>3</td>\n",
       "      <td>3</td>\n",
       "      <td>1</td>\n",
       "      <td>1</td>\n",
       "      <td>0</td>\n",
       "      <td>20</td>\n",
       "      <td>15</td>\n",
       "      <td>6</td>\n",
       "    </tr>\n",
       "    <tr>\n",
       "      <td>2</td>\n",
       "      <td>2</td>\n",
       "      <td>4969</td>\n",
       "      <td>4</td>\n",
       "      <td>7</td>\n",
       "      <td>0</td>\n",
       "      <td>2</td>\n",
       "      <td>5</td>\n",
       "      <td>15</td>\n",
       "      <td>0</td>\n",
       "      <td>1</td>\n",
       "      <td>1</td>\n",
       "      <td>1</td>\n",
       "      <td>4</td>\n",
       "      <td>6</td>\n",
       "      <td>2</td>\n",
       "      <td>1</td>\n",
       "      <td>18</td>\n",
       "      <td>34</td>\n",
       "      <td>5</td>\n",
       "    </tr>\n",
       "    <tr>\n",
       "      <td>3</td>\n",
       "      <td>2</td>\n",
       "      <td>1055</td>\n",
       "      <td>3</td>\n",
       "      <td>2</td>\n",
       "      <td>1</td>\n",
       "      <td>2</td>\n",
       "      <td>7</td>\n",
       "      <td>41</td>\n",
       "      <td>0</td>\n",
       "      <td>3</td>\n",
       "      <td>1</td>\n",
       "      <td>3</td>\n",
       "      <td>1</td>\n",
       "      <td>1</td>\n",
       "      <td>1</td>\n",
       "      <td>1</td>\n",
       "      <td>9</td>\n",
       "      <td>34</td>\n",
       "      <td>64</td>\n",
       "    </tr>\n",
       "    <tr>\n",
       "      <td>4</td>\n",
       "      <td>2</td>\n",
       "      <td>5628</td>\n",
       "      <td>4</td>\n",
       "      <td>7</td>\n",
       "      <td>0</td>\n",
       "      <td>7</td>\n",
       "      <td>7</td>\n",
       "      <td>107</td>\n",
       "      <td>2</td>\n",
       "      <td>3</td>\n",
       "      <td>1</td>\n",
       "      <td>3</td>\n",
       "      <td>2</td>\n",
       "      <td>6</td>\n",
       "      <td>2</td>\n",
       "      <td>0</td>\n",
       "      <td>19</td>\n",
       "      <td>15</td>\n",
       "      <td>89</td>\n",
       "    </tr>\n",
       "  </tbody>\n",
       "</table>\n",
       "</div>"
      ],
      "text/plain": [
       "   v3    v22  v24  v30  v31  v47  v52  v56  v66  v71  v74  v75  v79  v91  \\\n",
       "0   2  11572    2    2    0    2    6   74    2    3    1    3    4    0   \n",
       "1   2   5418    2    2    0    4    6   89    0    3    1    3    3    1   \n",
       "2   2   4969    4    7    0    2    5   15    0    1    1    1    4    6   \n",
       "3   2   1055    3    2    1    2    7   41    0    3    1    3    1    1   \n",
       "4   2   5628    4    7    0    7    7  107    2    3    1    3    2    6   \n",
       "\n",
       "   v107  v110  v112  v113  v125  \n",
       "0     4     1    14    34    21  \n",
       "1     1     0    20    15     6  \n",
       "2     2     1    18    34     5  \n",
       "3     1     1     9    34    64  \n",
       "4     2     0    19    15    89  "
      ]
     },
     "execution_count": 19,
     "metadata": {},
     "output_type": "execute_result"
    }
   ],
   "source": [
    "data[categorical_vars].head()"
   ]
  },
  {
   "cell_type": "code",
   "execution_count": 20,
   "metadata": {},
   "outputs": [
    {
     "data": {
      "text/plain": [
       "Index(['v1', 'v2', 'v3', 'v4', 'v5', 'v6', 'v7', 'v8', 'v9', 'v10',\n",
       "       ...\n",
       "       'v122', 'v123', 'v124', 'v125', 'v126', 'v127', 'v128', 'v129', 'v130',\n",
       "       'v131'],\n",
       "      dtype='object', length=131)"
      ]
     },
     "execution_count": 20,
     "metadata": {},
     "output_type": "execute_result"
    }
   ],
   "source": [
    "#now we need to standardize all columns except for target and ID that we do not care about\n",
    "variables = data.columns[2:]\n",
    "variables"
   ]
  },
  {
   "cell_type": "code",
   "execution_count": 21,
   "metadata": {},
   "outputs": [
    {
     "data": {
      "text/plain": [
       "array([[-3.56351230e-01,  5.65639016e-01, -1.32468777e-01, ...,\n",
       "        -4.47779314e-01, -1.36095581e+00,  1.33065520e+00],\n",
       "       [-1.08639922e-15,  3.18522140e-15, -1.32468777e-01, ...,\n",
       "        -4.47779314e-01,  4.44540066e-15, -2.09820141e-15],\n",
       "       [-8.35668348e-01, -9.66311124e-01, -1.32468777e-01, ...,\n",
       "         2.42554791e+00, -1.10095208e+00, -6.54525241e-01],\n",
       "       ...,\n",
       "       [ 2.95538822e-01, -1.08447359e+00, -1.32468777e-01, ...,\n",
       "        -4.47779314e-01, -1.37691816e-02,  2.30717834e-01],\n",
       "       [-1.08639922e-15,  3.18522140e-15, -1.32468777e-01, ...,\n",
       "         9.88884296e-01,  4.44540066e-15, -2.09820141e-15],\n",
       "       [-1.08639922e-15,  3.18522140e-15, -1.32468777e-01, ...,\n",
       "        -4.47779314e-01,  4.44540066e-15, -2.09820141e-15]])"
      ]
     },
     "execution_count": 21,
     "metadata": {},
     "output_type": "execute_result"
    }
   ],
   "source": [
    "#standardize the numerical columns\n",
    "scaler = StandardScaler()\n",
    "new_data = scaler.fit_transform(data[variables])\n",
    "new_data #new_data is an array, so need to come back to a dataframe"
   ]
  },
  {
   "cell_type": "code",
   "execution_count": 22,
   "metadata": {},
   "outputs": [
    {
     "data": {
      "text/html": [
       "<div>\n",
       "<style scoped>\n",
       "    .dataframe tbody tr th:only-of-type {\n",
       "        vertical-align: middle;\n",
       "    }\n",
       "\n",
       "    .dataframe tbody tr th {\n",
       "        vertical-align: top;\n",
       "    }\n",
       "\n",
       "    .dataframe thead th {\n",
       "        text-align: right;\n",
       "    }\n",
       "</style>\n",
       "<table border=\"1\" class=\"dataframe\">\n",
       "  <thead>\n",
       "    <tr style=\"text-align: right;\">\n",
       "      <th></th>\n",
       "      <th>v1</th>\n",
       "      <th>v2</th>\n",
       "      <th>v3</th>\n",
       "      <th>v4</th>\n",
       "      <th>v5</th>\n",
       "      <th>v6</th>\n",
       "      <th>v7</th>\n",
       "      <th>v8</th>\n",
       "      <th>v9</th>\n",
       "      <th>v10</th>\n",
       "      <th>...</th>\n",
       "      <th>v122</th>\n",
       "      <th>v123</th>\n",
       "      <th>v124</th>\n",
       "      <th>v125</th>\n",
       "      <th>v126</th>\n",
       "      <th>v127</th>\n",
       "      <th>v128</th>\n",
       "      <th>v129</th>\n",
       "      <th>v130</th>\n",
       "      <th>v131</th>\n",
       "    </tr>\n",
       "  </thead>\n",
       "  <tbody>\n",
       "    <tr>\n",
       "      <td>0</td>\n",
       "      <td>-3.563512e-01</td>\n",
       "      <td>5.656390e-01</td>\n",
       "      <td>-0.132469</td>\n",
       "      <td>-2.549989e-01</td>\n",
       "      <td>-5.395582e-01</td>\n",
       "      <td>3.771391e-01</td>\n",
       "      <td>1.584948e+00</td>\n",
       "      <td>-7.082961e-01</td>\n",
       "      <td>6.800609e-01</td>\n",
       "      <td>-0.990781</td>\n",
       "      <td>...</td>\n",
       "      <td>8.881061e-01</td>\n",
       "      <td>-8.066500e-01</td>\n",
       "      <td>-5.557939e-01</td>\n",
       "      <td>-0.978675</td>\n",
       "      <td>3.464854e-01</td>\n",
       "      <td>-1.044882e-01</td>\n",
       "      <td>-1.051132e-02</td>\n",
       "      <td>-0.447779</td>\n",
       "      <td>-1.360956e+00</td>\n",
       "      <td>1.330655e+00</td>\n",
       "    </tr>\n",
       "    <tr>\n",
       "      <td>1</td>\n",
       "      <td>-1.086399e-15</td>\n",
       "      <td>3.185221e-15</td>\n",
       "      <td>-0.132469</td>\n",
       "      <td>6.163877e-15</td>\n",
       "      <td>2.870885e-01</td>\n",
       "      <td>1.000310e-15</td>\n",
       "      <td>2.933731e-14</td>\n",
       "      <td>3.838029e-01</td>\n",
       "      <td>-1.604346e-14</td>\n",
       "      <td>-0.410300</td>\n",
       "      <td>...</td>\n",
       "      <td>5.288276e-15</td>\n",
       "      <td>-7.278801e-15</td>\n",
       "      <td>-2.008248e-01</td>\n",
       "      <td>-1.568800</td>\n",
       "      <td>8.808361e-15</td>\n",
       "      <td>3.995000e-15</td>\n",
       "      <td>-9.221202e-02</td>\n",
       "      <td>-0.447779</td>\n",
       "      <td>4.445401e-15</td>\n",
       "      <td>-2.098201e-15</td>\n",
       "    </tr>\n",
       "    <tr>\n",
       "      <td>2</td>\n",
       "      <td>-8.356683e-01</td>\n",
       "      <td>-9.663111e-01</td>\n",
       "      <td>-0.132469</td>\n",
       "      <td>3.116943e-01</td>\n",
       "      <td>-2.216891e+00</td>\n",
       "      <td>3.486294e+00</td>\n",
       "      <td>3.297260e+00</td>\n",
       "      <td>-7.050973e-01</td>\n",
       "      <td>2.532711e+00</td>\n",
       "      <td>-0.802517</td>\n",
       "      <td>...</td>\n",
       "      <td>1.880451e+00</td>\n",
       "      <td>-5.567908e-01</td>\n",
       "      <td>-5.698516e-01</td>\n",
       "      <td>-1.608142</td>\n",
       "      <td>2.660448e-01</td>\n",
       "      <td>5.566924e-01</td>\n",
       "      <td>-1.121587e+00</td>\n",
       "      <td>2.425548</td>\n",
       "      <td>-1.100952e+00</td>\n",
       "      <td>-6.545252e-01</td>\n",
       "    </tr>\n",
       "    <tr>\n",
       "      <td>3</td>\n",
       "      <td>-1.014818e+00</td>\n",
       "      <td>3.761433e-01</td>\n",
       "      <td>-0.132469</td>\n",
       "      <td>9.766887e-02</td>\n",
       "      <td>1.865345e+00</td>\n",
       "      <td>-7.526631e-01</td>\n",
       "      <td>-1.124372e+00</td>\n",
       "      <td>-6.324232e-01</td>\n",
       "      <td>-3.863939e-02</td>\n",
       "      <td>3.339294</td>\n",
       "      <td>...</td>\n",
       "      <td>1.574347e-01</td>\n",
       "      <td>-8.973019e-01</td>\n",
       "      <td>-5.769016e-01</td>\n",
       "      <td>0.713019</td>\n",
       "      <td>-6.819957e-01</td>\n",
       "      <td>-2.347967e-01</td>\n",
       "      <td>-5.161788e-02</td>\n",
       "      <td>0.988884</td>\n",
       "      <td>-2.643246e-01</td>\n",
       "      <td>-8.222397e-01</td>\n",
       "    </tr>\n",
       "    <tr>\n",
       "      <td>4</td>\n",
       "      <td>-1.086399e-15</td>\n",
       "      <td>3.185221e-15</td>\n",
       "      <td>-0.132469</td>\n",
       "      <td>6.163877e-15</td>\n",
       "      <td>2.186519e-14</td>\n",
       "      <td>1.000310e-15</td>\n",
       "      <td>2.933731e-14</td>\n",
       "      <td>1.907164e-15</td>\n",
       "      <td>-1.604346e-14</td>\n",
       "      <td>-0.598564</td>\n",
       "      <td>...</td>\n",
       "      <td>5.288276e-15</td>\n",
       "      <td>-7.278801e-15</td>\n",
       "      <td>1.609573e-15</td>\n",
       "      <td>1.696562</td>\n",
       "      <td>8.808361e-15</td>\n",
       "      <td>3.995000e-15</td>\n",
       "      <td>-4.913328e-15</td>\n",
       "      <td>-0.447779</td>\n",
       "      <td>4.445401e-15</td>\n",
       "      <td>-2.098201e-15</td>\n",
       "    </tr>\n",
       "  </tbody>\n",
       "</table>\n",
       "<p>5 rows × 131 columns</p>\n",
       "</div>"
      ],
      "text/plain": [
       "             v1            v2        v3            v4            v5  \\\n",
       "0 -3.563512e-01  5.656390e-01 -0.132469 -2.549989e-01 -5.395582e-01   \n",
       "1 -1.086399e-15  3.185221e-15 -0.132469  6.163877e-15  2.870885e-01   \n",
       "2 -8.356683e-01 -9.663111e-01 -0.132469  3.116943e-01 -2.216891e+00   \n",
       "3 -1.014818e+00  3.761433e-01 -0.132469  9.766887e-02  1.865345e+00   \n",
       "4 -1.086399e-15  3.185221e-15 -0.132469  6.163877e-15  2.186519e-14   \n",
       "\n",
       "             v6            v7            v8            v9       v10  ...  \\\n",
       "0  3.771391e-01  1.584948e+00 -7.082961e-01  6.800609e-01 -0.990781  ...   \n",
       "1  1.000310e-15  2.933731e-14  3.838029e-01 -1.604346e-14 -0.410300  ...   \n",
       "2  3.486294e+00  3.297260e+00 -7.050973e-01  2.532711e+00 -0.802517  ...   \n",
       "3 -7.526631e-01 -1.124372e+00 -6.324232e-01 -3.863939e-02  3.339294  ...   \n",
       "4  1.000310e-15  2.933731e-14  1.907164e-15 -1.604346e-14 -0.598564  ...   \n",
       "\n",
       "           v122          v123          v124      v125          v126  \\\n",
       "0  8.881061e-01 -8.066500e-01 -5.557939e-01 -0.978675  3.464854e-01   \n",
       "1  5.288276e-15 -7.278801e-15 -2.008248e-01 -1.568800  8.808361e-15   \n",
       "2  1.880451e+00 -5.567908e-01 -5.698516e-01 -1.608142  2.660448e-01   \n",
       "3  1.574347e-01 -8.973019e-01 -5.769016e-01  0.713019 -6.819957e-01   \n",
       "4  5.288276e-15 -7.278801e-15  1.609573e-15  1.696562  8.808361e-15   \n",
       "\n",
       "           v127          v128      v129          v130          v131  \n",
       "0 -1.044882e-01 -1.051132e-02 -0.447779 -1.360956e+00  1.330655e+00  \n",
       "1  3.995000e-15 -9.221202e-02 -0.447779  4.445401e-15 -2.098201e-15  \n",
       "2  5.566924e-01 -1.121587e+00  2.425548 -1.100952e+00 -6.545252e-01  \n",
       "3 -2.347967e-01 -5.161788e-02  0.988884 -2.643246e-01 -8.222397e-01  \n",
       "4  3.995000e-15 -4.913328e-15 -0.447779  4.445401e-15 -2.098201e-15  \n",
       "\n",
       "[5 rows x 131 columns]"
      ]
     },
     "execution_count": 22,
     "metadata": {},
     "output_type": "execute_result"
    }
   ],
   "source": [
    "new_data = pd.DataFrame(new_data, columns = variables)\n",
    "new_data.head()\n",
    "#now, the last thing to do is simply add the target variable and the dataset is ready for splitting"
   ]
  },
  {
   "cell_type": "code",
   "execution_count": 23,
   "metadata": {},
   "outputs": [
    {
     "data": {
      "text/html": [
       "<div>\n",
       "<style scoped>\n",
       "    .dataframe tbody tr th:only-of-type {\n",
       "        vertical-align: middle;\n",
       "    }\n",
       "\n",
       "    .dataframe tbody tr th {\n",
       "        vertical-align: top;\n",
       "    }\n",
       "\n",
       "    .dataframe thead th {\n",
       "        text-align: right;\n",
       "    }\n",
       "</style>\n",
       "<table border=\"1\" class=\"dataframe\">\n",
       "  <thead>\n",
       "    <tr style=\"text-align: right;\">\n",
       "      <th></th>\n",
       "      <th>v1</th>\n",
       "      <th>v2</th>\n",
       "      <th>v3</th>\n",
       "      <th>v4</th>\n",
       "      <th>v5</th>\n",
       "      <th>v6</th>\n",
       "      <th>v7</th>\n",
       "      <th>v8</th>\n",
       "      <th>v9</th>\n",
       "      <th>v10</th>\n",
       "      <th>...</th>\n",
       "      <th>v123</th>\n",
       "      <th>v124</th>\n",
       "      <th>v125</th>\n",
       "      <th>v126</th>\n",
       "      <th>v127</th>\n",
       "      <th>v128</th>\n",
       "      <th>v129</th>\n",
       "      <th>v130</th>\n",
       "      <th>v131</th>\n",
       "      <th>target</th>\n",
       "    </tr>\n",
       "  </thead>\n",
       "  <tbody>\n",
       "    <tr>\n",
       "      <td>0</td>\n",
       "      <td>-3.563512e-01</td>\n",
       "      <td>5.656390e-01</td>\n",
       "      <td>-0.132469</td>\n",
       "      <td>-2.549989e-01</td>\n",
       "      <td>-5.395582e-01</td>\n",
       "      <td>3.771391e-01</td>\n",
       "      <td>1.584948e+00</td>\n",
       "      <td>-7.082961e-01</td>\n",
       "      <td>6.800609e-01</td>\n",
       "      <td>-0.990781</td>\n",
       "      <td>...</td>\n",
       "      <td>-8.066500e-01</td>\n",
       "      <td>-5.557939e-01</td>\n",
       "      <td>-0.978675</td>\n",
       "      <td>3.464854e-01</td>\n",
       "      <td>-1.044882e-01</td>\n",
       "      <td>-1.051132e-02</td>\n",
       "      <td>-0.447779</td>\n",
       "      <td>-1.360956e+00</td>\n",
       "      <td>1.330655e+00</td>\n",
       "      <td>1</td>\n",
       "    </tr>\n",
       "    <tr>\n",
       "      <td>1</td>\n",
       "      <td>-1.086399e-15</td>\n",
       "      <td>3.185221e-15</td>\n",
       "      <td>-0.132469</td>\n",
       "      <td>6.163877e-15</td>\n",
       "      <td>2.870885e-01</td>\n",
       "      <td>1.000310e-15</td>\n",
       "      <td>2.933731e-14</td>\n",
       "      <td>3.838029e-01</td>\n",
       "      <td>-1.604346e-14</td>\n",
       "      <td>-0.410300</td>\n",
       "      <td>...</td>\n",
       "      <td>-7.278801e-15</td>\n",
       "      <td>-2.008248e-01</td>\n",
       "      <td>-1.568800</td>\n",
       "      <td>8.808361e-15</td>\n",
       "      <td>3.995000e-15</td>\n",
       "      <td>-9.221202e-02</td>\n",
       "      <td>-0.447779</td>\n",
       "      <td>4.445401e-15</td>\n",
       "      <td>-2.098201e-15</td>\n",
       "      <td>1</td>\n",
       "    </tr>\n",
       "    <tr>\n",
       "      <td>2</td>\n",
       "      <td>-8.356683e-01</td>\n",
       "      <td>-9.663111e-01</td>\n",
       "      <td>-0.132469</td>\n",
       "      <td>3.116943e-01</td>\n",
       "      <td>-2.216891e+00</td>\n",
       "      <td>3.486294e+00</td>\n",
       "      <td>3.297260e+00</td>\n",
       "      <td>-7.050973e-01</td>\n",
       "      <td>2.532711e+00</td>\n",
       "      <td>-0.802517</td>\n",
       "      <td>...</td>\n",
       "      <td>-5.567908e-01</td>\n",
       "      <td>-5.698516e-01</td>\n",
       "      <td>-1.608142</td>\n",
       "      <td>2.660448e-01</td>\n",
       "      <td>5.566924e-01</td>\n",
       "      <td>-1.121587e+00</td>\n",
       "      <td>2.425548</td>\n",
       "      <td>-1.100952e+00</td>\n",
       "      <td>-6.545252e-01</td>\n",
       "      <td>1</td>\n",
       "    </tr>\n",
       "    <tr>\n",
       "      <td>3</td>\n",
       "      <td>-1.014818e+00</td>\n",
       "      <td>3.761433e-01</td>\n",
       "      <td>-0.132469</td>\n",
       "      <td>9.766887e-02</td>\n",
       "      <td>1.865345e+00</td>\n",
       "      <td>-7.526631e-01</td>\n",
       "      <td>-1.124372e+00</td>\n",
       "      <td>-6.324232e-01</td>\n",
       "      <td>-3.863939e-02</td>\n",
       "      <td>3.339294</td>\n",
       "      <td>...</td>\n",
       "      <td>-8.973019e-01</td>\n",
       "      <td>-5.769016e-01</td>\n",
       "      <td>0.713019</td>\n",
       "      <td>-6.819957e-01</td>\n",
       "      <td>-2.347967e-01</td>\n",
       "      <td>-5.161788e-02</td>\n",
       "      <td>0.988884</td>\n",
       "      <td>-2.643246e-01</td>\n",
       "      <td>-8.222397e-01</td>\n",
       "      <td>1</td>\n",
       "    </tr>\n",
       "    <tr>\n",
       "      <td>4</td>\n",
       "      <td>-1.086399e-15</td>\n",
       "      <td>3.185221e-15</td>\n",
       "      <td>-0.132469</td>\n",
       "      <td>6.163877e-15</td>\n",
       "      <td>2.186519e-14</td>\n",
       "      <td>1.000310e-15</td>\n",
       "      <td>2.933731e-14</td>\n",
       "      <td>1.907164e-15</td>\n",
       "      <td>-1.604346e-14</td>\n",
       "      <td>-0.598564</td>\n",
       "      <td>...</td>\n",
       "      <td>-7.278801e-15</td>\n",
       "      <td>1.609573e-15</td>\n",
       "      <td>1.696562</td>\n",
       "      <td>8.808361e-15</td>\n",
       "      <td>3.995000e-15</td>\n",
       "      <td>-4.913328e-15</td>\n",
       "      <td>-0.447779</td>\n",
       "      <td>4.445401e-15</td>\n",
       "      <td>-2.098201e-15</td>\n",
       "      <td>1</td>\n",
       "    </tr>\n",
       "  </tbody>\n",
       "</table>\n",
       "<p>5 rows × 132 columns</p>\n",
       "</div>"
      ],
      "text/plain": [
       "             v1            v2        v3            v4            v5  \\\n",
       "0 -3.563512e-01  5.656390e-01 -0.132469 -2.549989e-01 -5.395582e-01   \n",
       "1 -1.086399e-15  3.185221e-15 -0.132469  6.163877e-15  2.870885e-01   \n",
       "2 -8.356683e-01 -9.663111e-01 -0.132469  3.116943e-01 -2.216891e+00   \n",
       "3 -1.014818e+00  3.761433e-01 -0.132469  9.766887e-02  1.865345e+00   \n",
       "4 -1.086399e-15  3.185221e-15 -0.132469  6.163877e-15  2.186519e-14   \n",
       "\n",
       "             v6            v7            v8            v9       v10  ...  \\\n",
       "0  3.771391e-01  1.584948e+00 -7.082961e-01  6.800609e-01 -0.990781  ...   \n",
       "1  1.000310e-15  2.933731e-14  3.838029e-01 -1.604346e-14 -0.410300  ...   \n",
       "2  3.486294e+00  3.297260e+00 -7.050973e-01  2.532711e+00 -0.802517  ...   \n",
       "3 -7.526631e-01 -1.124372e+00 -6.324232e-01 -3.863939e-02  3.339294  ...   \n",
       "4  1.000310e-15  2.933731e-14  1.907164e-15 -1.604346e-14 -0.598564  ...   \n",
       "\n",
       "           v123          v124      v125          v126          v127  \\\n",
       "0 -8.066500e-01 -5.557939e-01 -0.978675  3.464854e-01 -1.044882e-01   \n",
       "1 -7.278801e-15 -2.008248e-01 -1.568800  8.808361e-15  3.995000e-15   \n",
       "2 -5.567908e-01 -5.698516e-01 -1.608142  2.660448e-01  5.566924e-01   \n",
       "3 -8.973019e-01 -5.769016e-01  0.713019 -6.819957e-01 -2.347967e-01   \n",
       "4 -7.278801e-15  1.609573e-15  1.696562  8.808361e-15  3.995000e-15   \n",
       "\n",
       "           v128      v129          v130          v131  target  \n",
       "0 -1.051132e-02 -0.447779 -1.360956e+00  1.330655e+00       1  \n",
       "1 -9.221202e-02 -0.447779  4.445401e-15 -2.098201e-15       1  \n",
       "2 -1.121587e+00  2.425548 -1.100952e+00 -6.545252e-01       1  \n",
       "3 -5.161788e-02  0.988884 -2.643246e-01 -8.222397e-01       1  \n",
       "4 -4.913328e-15 -0.447779  4.445401e-15 -2.098201e-15       1  \n",
       "\n",
       "[5 rows x 132 columns]"
      ]
     },
     "execution_count": 23,
     "metadata": {},
     "output_type": "execute_result"
    }
   ],
   "source": [
    "new_data = new_data.join(data['target'])\n",
    "new_data.head()"
   ]
  },
  {
   "cell_type": "code",
   "execution_count": 24,
   "metadata": {},
   "outputs": [
    {
     "data": {
      "text/plain": [
       "(50000, 132)"
      ]
     },
     "execution_count": 24,
     "metadata": {},
     "output_type": "execute_result"
    }
   ],
   "source": [
    "new_data.shape\n",
    "#all variables but the ID variable, which we do not need anyway"
   ]
  },
  {
   "cell_type": "code",
   "execution_count": null,
   "metadata": {},
   "outputs": [],
   "source": []
  },
  {
   "cell_type": "markdown",
   "metadata": {},
   "source": [
    "Preprocessing is done. \n",
    "\n",
    "Now it is time to split the data to test and training set and move to feature selection. For feature selection I will use filter methods, correlation and an embedded method to see how much we can reduce the number of features."
   ]
  },
  {
   "cell_type": "code",
   "execution_count": 25,
   "metadata": {},
   "outputs": [],
   "source": [
    "from sklearn.model_selection import train_test_split\n",
    "X = new_data.drop('target', axis=1)\n",
    "y = new_data['target']\n",
    "X_train, X_test, y_train, y_test = train_test_split(X, y, test_size=0.33, random_state=42)"
   ]
  },
  {
   "cell_type": "code",
   "execution_count": 26,
   "metadata": {},
   "outputs": [],
   "source": [
    "# I keep a copy of the dataset with all the variables to measure the performance of machine learning models\n",
    "\n",
    "X_train_original = X_train.copy()\n",
    "X_test_original = X_test.copy()"
   ]
  },
  {
   "cell_type": "code",
   "execution_count": 27,
   "metadata": {},
   "outputs": [],
   "source": [
    "from sklearn.feature_selection import VarianceThreshold"
   ]
  },
  {
   "cell_type": "markdown",
   "metadata": {},
   "source": [
    "Removal of constant and semi constant features"
   ]
  },
  {
   "cell_type": "code",
   "execution_count": 28,
   "metadata": {},
   "outputs": [
    {
     "data": {
      "text/plain": [
       "131"
      ]
     },
     "execution_count": 28,
     "metadata": {},
     "output_type": "execute_result"
    }
   ],
   "source": [
    "sel = VarianceThreshold(threshold=0)\n",
    "sel.fit(X_train)  # fit finds the features with low variance\n",
    "sum(sel.get_support()) # how many not constant? Looks like most except one..\n"
   ]
  },
  {
   "cell_type": "code",
   "execution_count": 29,
   "metadata": {},
   "outputs": [
    {
     "data": {
      "text/plain": [
       "Index(['v1', 'v2', 'v3', 'v4', 'v5', 'v6', 'v7', 'v8', 'v9', 'v10',\n",
       "       ...\n",
       "       'v122', 'v123', 'v124', 'v125', 'v126', 'v127', 'v128', 'v129', 'v130',\n",
       "       'v131'],\n",
       "      dtype='object', length=131)"
      ]
     },
     "execution_count": 29,
     "metadata": {},
     "output_type": "execute_result"
    }
   ],
   "source": [
    "features_to_keep = X_train.columns[sel.get_support()]\n",
    "features_to_keep"
   ]
  },
  {
   "cell_type": "code",
   "execution_count": 30,
   "metadata": {},
   "outputs": [
    {
     "data": {
      "text/plain": [
       "((33500, 131), (16500, 131))"
      ]
     },
     "execution_count": 30,
     "metadata": {},
     "output_type": "execute_result"
    }
   ],
   "source": [
    "# keep only features that are NOT constant\n",
    "X_train = X_train[features_to_keep]\n",
    "X_test = X_test[features_to_keep]\n",
    "\n",
    "X_train.shape, X_test.shape"
   ]
  },
  {
   "cell_type": "code",
   "execution_count": 31,
   "metadata": {},
   "outputs": [
    {
     "data": {
      "text/plain": [
       "Index(['v1', 'v2', 'v3', 'v4', 'v5', 'v6', 'v7', 'v8', 'v9', 'v10',\n",
       "       ...\n",
       "       'v122', 'v123', 'v124', 'v125', 'v126', 'v127', 'v128', 'v129', 'v130',\n",
       "       'v131'],\n",
       "      dtype='object', length=131)"
      ]
     },
     "execution_count": 31,
     "metadata": {},
     "output_type": "execute_result"
    }
   ],
   "source": [
    "#filter methods: removing quasi-constant features\n",
    "sel=  VarianceThreshold(threshold=0.01)\n",
    "sel.fit(X_train)\n",
    "\n",
    "sum(sel.get_support())\n",
    "features_to_keep = X_train.columns[sel.get_support()]\n",
    "features_to_keep\n",
    "#looks like there are no quasi constant features left"
   ]
  },
  {
   "cell_type": "code",
   "execution_count": 32,
   "metadata": {},
   "outputs": [
    {
     "data": {
      "text/plain": [
       "((33500, 131), (16500, 131))"
      ]
     },
     "execution_count": 32,
     "metadata": {},
     "output_type": "execute_result"
    }
   ],
   "source": [
    "X_train = X_train[features_to_keep]\n",
    "X_test = X_test[features_to_keep]\n",
    "\n",
    "X_train.shape, X_test.shape\n",
    "#by removing contant features, there are no more features that need removing"
   ]
  },
  {
   "cell_type": "markdown",
   "metadata": {},
   "source": [
    "Removal of duplicate features"
   ]
  },
  {
   "cell_type": "code",
   "execution_count": 33,
   "metadata": {},
   "outputs": [
    {
     "data": {
      "text/plain": [
       "0"
      ]
     },
     "execution_count": 33,
     "metadata": {},
     "output_type": "execute_result"
    }
   ],
   "source": [
    "# check for duplicated features in the training set\n",
    "duplicated_feat = []\n",
    "for i in range(0, len(X_train.columns)): #for i that takes column positions from 0 to 131 (bcs this is the length of set of cols, 131)\n",
    "    col_1 = X_train.columns[i] #first item is the first column\n",
    "\n",
    "    for col_2 in X_train.columns[i + 1:]: #then, the second item starts being the next column (and moves until the end of the column list of 131)\n",
    "        if X_train[col_1].equals(X_train[col_2]): #if the first column equals the second column\n",
    "            duplicated_feat.append(col_2) #we mark the second column as a duplicate and start over - see if second and third are dups, then third and fourth and so on until 131.\n",
    "            \n",
    "len(duplicated_feat) \n",
    "#no duplicated columns"
   ]
  },
  {
   "cell_type": "markdown",
   "metadata": {},
   "source": [
    "Use correlation to remove features"
   ]
  },
  {
   "cell_type": "code",
   "execution_count": 34,
   "metadata": {},
   "outputs": [
    {
     "name": "stdout",
     "output_type": "stream",
     "text": [
      "There are 56 correlated features in the dataset\n"
     ]
    }
   ],
   "source": [
    "# find and remove correlated features\n",
    "def correlation(dataset, threshold):\n",
    "    col_corr = set()  # Set of all the names of correlated columns\n",
    "    corr_matrix = dataset.corr()\n",
    "    for i in range(len(corr_matrix.columns)):\n",
    "        for j in range(i):\n",
    "            if abs(corr_matrix.iloc[i, j]) > threshold: # we are interested in absolute coeff value\n",
    "                colname = corr_matrix.columns[i]  # getting the name of column\n",
    "                col_corr.add(colname)\n",
    "    return col_corr\n",
    "\n",
    "corr_features = correlation(X_train, 0.8)\n",
    "print('There are', len(set(corr_features)), 'correlated features in the dataset' )\n"
   ]
  },
  {
   "cell_type": "code",
   "execution_count": 35,
   "metadata": {},
   "outputs": [],
   "source": [
    "X_train = X_train.drop(corr_features, axis=1)\n",
    "X_test = X_test.drop(corr_features, axis=1)"
   ]
  },
  {
   "cell_type": "code",
   "execution_count": 36,
   "metadata": {},
   "outputs": [
    {
     "data": {
      "text/plain": [
       "75"
      ]
     },
     "execution_count": 36,
     "metadata": {},
     "output_type": "execute_result"
    }
   ],
   "source": [
    "len(X_train.columns)\n",
    "#managed to reduce the set by 56 features"
   ]
  },
  {
   "cell_type": "code",
   "execution_count": 37,
   "metadata": {},
   "outputs": [
    {
     "data": {
      "text/plain": [
       "75"
      ]
     },
     "execution_count": 37,
     "metadata": {},
     "output_type": "execute_result"
    }
   ],
   "source": [
    "len(X_test.columns)"
   ]
  },
  {
   "cell_type": "markdown",
   "metadata": {},
   "source": [
    "Remove features using univariate approaches."
   ]
  },
  {
   "cell_type": "markdown",
   "metadata": {},
   "source": [
    "To apply the univariate appriaches I will focus on variables in the training set that were originally numerics. I will check if they are linear, as this is the pre-requisite for using the univariate approach.\n"
   ]
  },
  {
   "cell_type": "code",
   "execution_count": 38,
   "metadata": {},
   "outputs": [
    {
     "data": {
      "text/plain": [
       "75"
      ]
     },
     "execution_count": 38,
     "metadata": {},
     "output_type": "execute_result"
    }
   ],
   "source": [
    "#firstly, extract the column names of the set that were originally numeric variables by:\n",
    "#a) creating a list of vars in the current trainign set as we have it\n",
    "new_list =  list(X_train.columns)\n",
    "len(new_list)"
   ]
  },
  {
   "cell_type": "code",
   "execution_count": 39,
   "metadata": {},
   "outputs": [
    {
     "data": {
      "text/plain": [
       "19"
      ]
     },
     "execution_count": 39,
     "metadata": {},
     "output_type": "execute_result"
    }
   ],
   "source": [
    "#b) creating a list of variables from the array that was the categorical variables during the pre-processing stage\n",
    "old_cat_list = list(categorical_vars)\n",
    "len(old_cat_list)"
   ]
  },
  {
   "cell_type": "code",
   "execution_count": 40,
   "metadata": {},
   "outputs": [
    {
     "data": {
      "text/plain": [
       "58"
      ]
     },
     "execution_count": 40,
     "metadata": {},
     "output_type": "execute_result"
    }
   ],
   "source": [
    "#c) subtracting old_cat_list from new_list\n",
    "#(list(set(li1) - set(li2))) \n",
    "new_num_list = set(new_list) - set(old_cat_list) \n",
    "len(new_num_list)\n",
    "#there are 58 vars in the new X_train set that used to be numerics. \n",
    "#I will focus on them when applying the univariate filter methods."
   ]
  },
  {
   "cell_type": "code",
   "execution_count": 41,
   "metadata": {},
   "outputs": [
    {
     "data": {
      "image/png": "[encoded data removed]",
      "text/plain": [
       "<Figure size 432x432 with 1 Axes>"
      ]
     },
     "metadata": {
      "needs_background": "light"
     },
     "output_type": "display_data"
    }
   ],
   "source": [
    "plt.figure(figsize=(6,6))\n",
    "for var in new_num_list:\n",
    "                 sb.distplot(X_train[var], hist=True)\n",
    "#there are some variables that probably do not follow a normal distribution, but  \n",
    "#we can roughly see some sort of a bell curve when plotting the distribution of each variable in the training set.\n",
    "#will assume this is enough to use the univariate F-score selection method."
   ]
  },
  {
   "cell_type": "code",
   "execution_count": 42,
   "metadata": {},
   "outputs": [],
   "source": [
    "#firstly, import the libraries\n",
    "from sklearn.feature_selection import f_classif, f_regression\n",
    "from sklearn.feature_selection import SelectKBest, SelectPercentile"
   ]
  },
  {
   "cell_type": "code",
   "execution_count": 43,
   "metadata": {},
   "outputs": [
    {
     "data": {
      "text/plain": [
       "(array([1.71142627e+00, 7.47910133e+00, 3.68203246e+01, 1.78086584e+01,\n",
       "        1.80612828e+01, 9.47329755e-01, 1.80864587e+00, 1.93048623e+01,\n",
       "        2.10162246e+01, 2.88538891e+01, 4.85675074e+01, 3.55236549e+00,\n",
       "        6.23437566e-01, 7.82293753e+00, 1.66549496e+01, 3.13068338e+01,\n",
       "        6.80872825e+01, 6.14390731e+01, 1.87990311e+02, 1.52671729e-02,\n",
       "        1.24261501e+00, 3.09562089e+02, 1.56336000e+01, 5.75428025e+00,\n",
       "        3.49621780e+00, 3.50872708e+01, 1.55148336e+01, 9.16952603e+00,\n",
       "        4.39043365e+01, 8.30280369e+02, 4.63627289e+01, 6.43640896e+01,\n",
       "        5.40817426e+01, 1.92484721e+00, 2.42990976e+01, 2.17582842e+01,\n",
       "        3.40760071e+00, 1.68297182e+00, 2.09786290e+03, 1.47494627e+01,\n",
       "        1.33089782e+01, 6.65507507e+02, 2.12412906e+00, 2.65929283e+01,\n",
       "        1.12594345e+01, 1.37351158e+02, 2.70216137e+00, 4.85603770e-02,\n",
       "        1.39903088e+01, 3.10804616e+02, 1.17254762e+01, 5.40322496e-02,\n",
       "        6.44688847e+02, 1.80667952e+01, 3.82228220e+00, 7.82852701e+01,\n",
       "        1.44491180e+00, 7.23347483e-01]),\n",
       " array([1.90809400e-001, 6.24520371e-003, 1.30920193e-009, 2.44911611e-005,\n",
       "        2.14485138e-005, 3.30406946e-001, 1.78679861e-001, 1.11764071e-005,\n",
       "        4.57054330e-006, 7.85685637e-008, 3.25007946e-012, 5.94692761e-002,\n",
       "        4.29778315e-001, 5.16166909e-003, 4.49369895e-005, 2.22021525e-008,\n",
       "        1.62078465e-016, 4.70116562e-015, 1.13853188e-042, 9.01664088e-001,\n",
       "        2.64975670e-001, 5.56306935e-069, 7.70342894e-005, 1.64539645e-002,\n",
       "        6.15178694e-002, 3.18327374e-009, 8.20260836e-005, 2.46265484e-003,\n",
       "        3.50043042e-011, 2.24983083e-180, 9.99231269e-012, 1.06771280e-015,\n",
       "        1.96716886e-013, 1.65332520e-001, 8.28713407e-007, 3.10444815e-006,\n",
       "        6.49055569e-002, 1.94538970e-001, 0.00000000e+000, 1.23008443e-004,\n",
       "        2.64538913e-004, 2.49836419e-145, 1.45004553e-001, 2.52588528e-007,\n",
       "        7.93072987e-004, 1.16508543e-031, 1.00221694e-001, 8.25588874e-001,\n",
       "        1.84061433e-004, 3.00000704e-069, 6.17240807e-004, 8.16191196e-001,\n",
       "        6.89295892e-141, 2.13865375e-005, 5.05836105e-002, 9.34600365e-019,\n",
       "        2.29354652e-001, 3.95054144e-001]))"
      ]
     },
     "execution_count": 43,
     "metadata": {},
     "output_type": "execute_result"
    }
   ],
   "source": [
    "# calculate the univariate statistical measure between\n",
    "# each of the previously numeric variables and the target\n",
    "# similarly to chi2, the output is the array of f-scores\n",
    "# and an array of pvalues, which are the ones we will compare\n",
    "\n",
    "univariate = f_classif(X_train[new_num_list], y_train)\n",
    "univariate"
   ]
  },
  {
   "cell_type": "code",
   "execution_count": 44,
   "metadata": {},
   "outputs": [],
   "source": [
    "# let's add the variable names and order it for clearer visualisation\n",
    "univariate = pd.Series(univariate[1])\n",
    "univariate.index = X_train[new_num_list].columns\n",
    "univariate.sort_values(ascending=False, inplace=True)"
   ]
  },
  {
   "cell_type": "code",
   "execution_count": 45,
   "metadata": {},
   "outputs": [
    {
     "data": {
      "text/plain": [
       "<matplotlib.axes._subplots.AxesSubplot at 0x1a3d299c18>"
      ]
     },
     "execution_count": 45,
     "metadata": {},
     "output_type": "execute_result"
    },
    {
     "data": {
      "image/png": "[encoded data removed]",
      "text/plain": [
       "<Figure size 1440x576 with 1 Axes>"
      ]
     },
     "metadata": {
      "needs_background": "light"
     },
     "output_type": "display_data"
    }
   ],
   "source": [
    "# and now let's plot the p values\n",
    "univariate.sort_values(ascending=False).plot.bar(figsize=(20, 8))\n",
    "#while most variables seem to have enough predictive power (p=0.000 or very close), there are easily 13-14 vars that\n",
    "#for sure are under the 95% confidence level."
   ]
  },
  {
   "cell_type": "code",
   "execution_count": 46,
   "metadata": {},
   "outputs": [
    {
     "data": {
      "text/plain": [
       "Index(['v2', 'v7', 'v80', 'v29', 'v58', 'v59', 'v88', 'v19', 'v45', 'v36',\n",
       "       'v4', 'v85', 'v72', 'v34', 'v5', 'v6', 'v82', 'v13', 'v17', 'v10',\n",
       "       'v33', 'v51', 'v61', 'v20', 'v23', 'v50', 'v57', 'v39', 'v129', 'v99',\n",
       "       'v27', 'v38', 'v26', 'v62', 'v131', 'v14', 'v15', 'v119'],\n",
       "      dtype='object')"
      ]
     },
     "execution_count": 46,
     "metadata": {},
     "output_type": "execute_result"
    }
   ],
   "source": [
    "#in the next step, I will select the top 58-20=38 to remove the bottom 20 values.\n",
    "sel_ = SelectKBest(f_classif, k=38).fit(X_train[new_num_list].fillna(0), y_train)\n",
    "X_train[new_num_list].columns[sel_.get_support()]"
   ]
  },
  {
   "cell_type": "code",
   "execution_count": 47,
   "metadata": {},
   "outputs": [],
   "source": [
    "#make lists of variables we want to keep\n",
    "new_numeric = list(X_train[new_num_list].columns[sel_.get_support()])"
   ]
  },
  {
   "cell_type": "code",
   "execution_count": 48,
   "metadata": {},
   "outputs": [
    {
     "data": {
      "text/plain": [
       "['v22',\n",
       " 'v30',\n",
       " 'v3',\n",
       " 'v107',\n",
       " 'v66',\n",
       " 'v71',\n",
       " 'v112',\n",
       " 'v31',\n",
       " 'v91',\n",
       " 'v47',\n",
       " 'v125',\n",
       " 'v56',\n",
       " 'v113',\n",
       " 'v52',\n",
       " 'v74',\n",
       " 'v24',\n",
       " 'v79']"
      ]
     },
     "execution_count": 48,
     "metadata": {},
     "output_type": "execute_result"
    }
   ],
   "source": [
    "#remaining categorical variables \n",
    "new_cat_list = set(new_list) - set(new_num_list) \n",
    "list(new_cat_list)"
   ]
  },
  {
   "cell_type": "code",
   "execution_count": 49,
   "metadata": {},
   "outputs": [
    {
     "data": {
      "text/plain": [
       "55"
      ]
     },
     "execution_count": 49,
     "metadata": {},
     "output_type": "execute_result"
    }
   ],
   "source": [
    "#add these two list into one new list\n",
    "new_varlist = list(new_cat_list) + new_numeric\n",
    "len(new_varlist)\n",
    "#17+38 columns = 55"
   ]
  },
  {
   "cell_type": "code",
   "execution_count": 50,
   "metadata": {},
   "outputs": [
    {
     "data": {
      "text/plain": [
       "(33500, 55)"
      ]
     },
     "execution_count": 50,
     "metadata": {},
     "output_type": "execute_result"
    }
   ],
   "source": [
    "#transform X_train so that it how has 55 features\n",
    "X_train = X_train[new_varlist]\n",
    "X_train.shape"
   ]
  },
  {
   "cell_type": "code",
   "execution_count": 51,
   "metadata": {},
   "outputs": [],
   "source": [
    "#make sure the X_test set has the same vars\n",
    "new_varlist = list(X_train.columns)"
   ]
  },
  {
   "cell_type": "code",
   "execution_count": 52,
   "metadata": {},
   "outputs": [
    {
     "name": "stdout",
     "output_type": "stream",
     "text": [
      "<class 'pandas.core.frame.DataFrame'>\n",
      "Int64Index: 16500 entries, 33553 to 28203\n",
      "Data columns (total 55 columns):\n",
      "v22     16500 non-null float64\n",
      "v30     16500 non-null float64\n",
      "v3      16500 non-null float64\n",
      "v107    16500 non-null float64\n",
      "v66     16500 non-null float64\n",
      "v71     16500 non-null float64\n",
      "v112    16500 non-null float64\n",
      "v31     16500 non-null float64\n",
      "v91     16500 non-null float64\n",
      "v47     16500 non-null float64\n",
      "v125    16500 non-null float64\n",
      "v56     16500 non-null float64\n",
      "v113    16500 non-null float64\n",
      "v52     16500 non-null float64\n",
      "v74     16500 non-null float64\n",
      "v24     16500 non-null float64\n",
      "v79     16500 non-null float64\n",
      "v2      16500 non-null float64\n",
      "v7      16500 non-null float64\n",
      "v80     16500 non-null float64\n",
      "v29     16500 non-null float64\n",
      "v58     16500 non-null float64\n",
      "v59     16500 non-null float64\n",
      "v88     16500 non-null float64\n",
      "v19     16500 non-null float64\n",
      "v45     16500 non-null float64\n",
      "v36     16500 non-null float64\n",
      "v4      16500 non-null float64\n",
      "v85     16500 non-null float64\n",
      "v72     16500 non-null float64\n",
      "v34     16500 non-null float64\n",
      "v5      16500 non-null float64\n",
      "v6      16500 non-null float64\n",
      "v82     16500 non-null float64\n",
      "v13     16500 non-null float64\n",
      "v17     16500 non-null float64\n",
      "v10     16500 non-null float64\n",
      "v33     16500 non-null float64\n",
      "v51     16500 non-null float64\n",
      "v61     16500 non-null float64\n",
      "v20     16500 non-null float64\n",
      "v23     16500 non-null float64\n",
      "v50     16500 non-null float64\n",
      "v57     16500 non-null float64\n",
      "v39     16500 non-null float64\n",
      "v129    16500 non-null float64\n",
      "v99     16500 non-null float64\n",
      "v27     16500 non-null float64\n",
      "v38     16500 non-null float64\n",
      "v26     16500 non-null float64\n",
      "v62     16500 non-null float64\n",
      "v131    16500 non-null float64\n",
      "v14     16500 non-null float64\n",
      "v15     16500 non-null float64\n",
      "v119    16500 non-null float64\n",
      "dtypes: float64(55)\n",
      "memory usage: 7.0 MB\n"
     ]
    }
   ],
   "source": [
    "X_test = X_test[new_varlist]\n",
    "X_test.info()"
   ]
  },
  {
   "cell_type": "markdown",
   "metadata": {},
   "source": [
    "Lastly, I will apply an embeded method for feature selection. In this case, since there are both clasification and continuous variables in the dataset, a hybrid method - recursive feature elimination."
   ]
  },
  {
   "cell_type": "code",
   "execution_count": 53,
   "metadata": {},
   "outputs": [],
   "source": [
    "#importing the necessary libraries\n",
    "import xgboost as xgb\n",
    "from sklearn.metrics import roc_auc_score, r2_score"
   ]
  },
  {
   "cell_type": "code",
   "execution_count": 54,
   "metadata": {},
   "outputs": [],
   "source": [
    "# the first step of this procedure  consists in building\n",
    "# a machine learning algorithm using all the available features\n",
    "# and then determine the importance of the features according\n",
    "# to the algorithm\n",
    "\n",
    "# set the seed for reproducibility\n",
    "#seed_val = 1000000000\n",
    "#np.random.seed(seed_val)\n",
    "\n",
    "# build initial model using all the features\n",
    "#model_all_features = xgb.XGBClassifier(\n",
    "#    nthread=10, max_depth=4, n_estimators=500, learning_rate=0.05)\n",
    "\n",
    "#model_all_features.fit(X_train, y_train)\n",
    "\n",
    "# calculate the roc-auc in the test set\n",
    "#y_pred_test = model_all_features.predict_proba(X_test)[:, 1]\n",
    "#auc_score_all = roc_auc_score(y_test, y_pred_test)\n",
    "#print('Test all features xgb ROC AUC=%f' % (auc_score_all))"
   ]
  },
  {
   "cell_type": "code",
   "execution_count": 55,
   "metadata": {},
   "outputs": [],
   "source": [
    "# the second step consist of deriving the importance of \n",
    "# each feature and ranking them from the least to the most\n",
    "# important\n",
    "\n",
    "# get feature name and importance\n",
    "#features = pd.Series(model_all_features.feature_importances_)\n",
    "#features.index = X_train.columns\n",
    "\n",
    "# sort the features by importance\n",
    "#features.sort_values(ascending=True, inplace=True)\n",
    "\n",
    "# plot\n",
    "#features.plot.bar(figsize=(20,6))"
   ]
  },
  {
   "cell_type": "code",
   "execution_count": 56,
   "metadata": {},
   "outputs": [],
   "source": [
    "# view the list of ordered features\n",
    "#features = list(features.index)\n",
    "#features"
   ]
  },
  {
   "cell_type": "code",
   "execution_count": 57,
   "metadata": {},
   "outputs": [],
   "source": [
    "# the final step consists in removing one at a time\n",
    "# all the features, from the least to the most\n",
    "# important, and build an xgboost at each round.\n",
    "\n",
    "# once we build the model, we calculate the new roc-auc\n",
    "# if the new roc-auc is smaller than the original one\n",
    "# (with all the features), then that feature that was removed\n",
    "# was important, and we should keep it.\n",
    "# otherwise, we should remove the feature\n",
    "\n",
    "# recursive feature elimination:\n",
    "\n",
    "# first we arbitrarily set the drop in roc-auc\n",
    "# if the drop is below this threshold,\n",
    "# the feature will be removed\n",
    "#tol = 0.0005\n",
    "\n",
    "#print('doing recursive feature elimination')\n",
    "\n",
    "# we initialise a list where we will collect the\n",
    "# features we should remove\n",
    "#features_to_remove = []\n",
    "\n",
    "# set a counter to know how far ahead the loop is going\n",
    "#count = 1\n",
    "\n",
    "# now we loop over all the features, in order of importance:\n",
    "# remember that features is the list of ordered features\n",
    "# by importance\n",
    "#for feature in features:\n",
    "#    print()\n",
    "#    print('testing feature: ', feature, ' which is feature ', count,\n",
    "#          ' out of ', len(features))\n",
    "#    count = count + 1\n",
    "\n",
    "    # initialise model\n",
    "#    model_int = xgb.XGBClassifier(\n",
    "#        nthread=10, max_depth=4, n_estimators=500, learning_rate=0.05)\n",
    "\n",
    "    # fit model with all variables minus the removed features\n",
    "    # and the feature to be evaluated\n",
    "#    model_int.fit(\n",
    "#        X_train.drop(features_to_remove + [feature], axis=1), y_train)\n",
    "\n",
    "    # make a prediction over the test set\n",
    "#    y_pred_test = model_int.predict_proba(\n",
    "#        X_test.drop(features_to_remove + [feature], axis=1))[:, 1]\n",
    "\n",
    "    # calculate the new roc-auc\n",
    "#    auc_score_int = roc_auc_score(y_test, y_pred_test)\n",
    "#    print('New Test ROC AUC={}'.format((auc_score_int)))\n",
    "\n",
    "    # print the original roc-auc with all the features\n",
    "#    print('All features Test ROC AUC={}'.format((auc_score_all)))\n",
    "\n",
    "    # determine the drop in the roc-auc\n",
    "#    diff_auc = auc_score_all - auc_score_int\n",
    "\n",
    "    # compare the drop in roc-auc with the tolerance\n",
    "    # we set previously\n",
    "#    if diff_auc >= tol:\n",
    "#        print('Drop in ROC AUC={}'.format(diff_auc))\n",
    "#        print('keep: ', feature)\n",
    "#        print\n",
    "#    else:\n",
    "#        print('Drop in ROC AUC={}'.format(diff_auc))\n",
    "#        print('remove: ', feature)\n",
    "#        print\n",
    "        # if the drop in the roc is small and we remove the\n",
    "        # feature, we need to set the new roc to the one based on\n",
    "        # the remaining features\n",
    "#        auc_score_all = auc_score_int\n",
    "        \n",
    "        # and append the feature to remove to the collecting\n",
    "        # list\n",
    "#        features_to_remove.append(feature)\n",
    "\n",
    "# now the loop is finished, we evaluated all the features\n",
    "#print('DONE!!')\n",
    "#print('total features to remove: ', len(features_to_remove))\n",
    "\n",
    "# determine the features to keep (those we won't remove)\n",
    "#features_to_keep = [x for x in features if x not in features_to_remove]\n",
    "#print('total features to keep: ', len(features_to_keep))"
   ]
  },
  {
   "cell_type": "code",
   "execution_count": 58,
   "metadata": {},
   "outputs": [],
   "source": [
    "# capture the 56 selected features\n",
    "#seed_val = 1000000000\n",
    "#np.random.seed(seed_val)\n",
    "\n",
    "# build initial model\n",
    "#final_xgb = xgb.XGBClassifier(\n",
    "#    nthread=10, max_depth=4, n_estimators=500, learning_rate=0.05)\n",
    "\n",
    "# fit the model with the selected features\n",
    "#final_xgb.fit(X_train[features_to_keep], y_train)\n",
    "\n",
    "# make predictions\n",
    "#y_pred_test = final_xgb.predict_proba(X_test[features_to_keep])[:, 1]\n",
    "\n",
    "# calculate roc-auc\n",
    "#auc_score_final = roc_auc_score(y_test, y_pred_test)\n",
    "#print('Test selected features ROC AUC=%f' % (auc_score_final))\n",
    "#print('Test all features ROC AUC=%f' % (auc_score_all))"
   ]
  },
  {
   "cell_type": "markdown",
   "metadata": {},
   "source": [
    "The method was highly computationally expensive, but has yielded to no gain in the ROC AUC score. For that, I will apply one more strategy, which is the univariate ROC "
   ]
  },
  {
   "cell_type": "code",
   "execution_count": 59,
   "metadata": {},
   "outputs": [],
   "source": [
    "from sklearn.tree import DecisionTreeClassifier, DecisionTreeRegressor\n",
    "from sklearn.metrics import roc_auc_score, mean_squared_error"
   ]
  },
  {
   "cell_type": "code",
   "execution_count": 60,
   "metadata": {},
   "outputs": [],
   "source": [
    "# loop to build a tree, make predictions and get the roc-auc\n",
    "# for each feature of the train set\n",
    "\n",
    "roc_values = []\n",
    "for feature in X_train.columns:\n",
    "    clf = DecisionTreeClassifier()\n",
    "    clf.fit(X_train[feature].fillna(0).to_frame(), y_train)\n",
    "    y_scored = clf.predict_proba(X_test[feature].fillna(0).to_frame())\n",
    "    roc_values.append(roc_auc_score(y_test, y_scored[:, 1]))"
   ]
  },
  {
   "cell_type": "code",
   "execution_count": 61,
   "metadata": {},
   "outputs": [
    {
     "data": {
      "text/plain": [
       "v56     0.657701\n",
       "v79     0.629331\n",
       "v10     0.629323\n",
       "v47     0.605492\n",
       "v113    0.603787\n",
       "v50     0.598263\n",
       "v66     0.589110\n",
       "v31     0.587932\n",
       "v14     0.578386\n",
       "v129    0.577395\n",
       "v62     0.572277\n",
       "v72     0.546037\n",
       "v24     0.529320\n",
       "v22     0.524865\n",
       "v30     0.519863\n",
       "v38     0.518589\n",
       "v125    0.516064\n",
       "v112    0.515493\n",
       "v39     0.511906\n",
       "v34     0.510111\n",
       "v71     0.509966\n",
       "v91     0.509003\n",
       "v107    0.509003\n",
       "v52     0.507517\n",
       "v51     0.507410\n",
       "v20     0.506433\n",
       "v4      0.506299\n",
       "v61     0.505987\n",
       "v33     0.505804\n",
       "v19     0.505742\n",
       "v82     0.505389\n",
       "v26     0.505148\n",
       "v3      0.504952\n",
       "v131    0.504177\n",
       "v23     0.504087\n",
       "v13     0.503813\n",
       "v88     0.503418\n",
       "v5      0.503357\n",
       "v27     0.503225\n",
       "v45     0.503199\n",
       "v15     0.502961\n",
       "v29     0.502777\n",
       "v74     0.501981\n",
       "v57     0.501276\n",
       "v2      0.501275\n",
       "v85     0.500893\n",
       "v119    0.500664\n",
       "v17     0.500511\n",
       "v58     0.500157\n",
       "v36     0.499348\n",
       "v6      0.498908\n",
       "v7      0.498614\n",
       "v59     0.495478\n",
       "v99     0.494966\n",
       "v80     0.493636\n",
       "dtype: float64"
      ]
     },
     "execution_count": 61,
     "metadata": {},
     "output_type": "execute_result"
    }
   ],
   "source": [
    "# let's add the variable names and order it for clearer visualisation\n",
    "roc_values = pd.Series(roc_values)\n",
    "roc_values.index = X_train.columns\n",
    "roc_values.sort_values(ascending=False)"
   ]
  },
  {
   "cell_type": "code",
   "execution_count": 62,
   "metadata": {},
   "outputs": [
    {
     "data": {
      "text/plain": [
       "<matplotlib.axes._subplots.AxesSubplot at 0x1a41eef4a8>"
      ]
     },
     "execution_count": 62,
     "metadata": {},
     "output_type": "execute_result"
    },
    {
     "data": {
      "image/png": "[encoded data removed]",
      "text/plain": [
       "<Figure size 1440x576 with 1 Axes>"
      ]
     },
     "metadata": {
      "needs_background": "light"
     },
     "output_type": "display_data"
    }
   ],
   "source": [
    "# and now let's plot\n",
    "roc_values.sort_values(ascending=False).plot.bar(figsize=(20, 8))"
   ]
  },
  {
   "cell_type": "code",
   "execution_count": 63,
   "metadata": {},
   "outputs": [
    {
     "data": {
      "text/plain": [
       "49"
      ]
     },
     "execution_count": 63,
     "metadata": {},
     "output_type": "execute_result"
    }
   ],
   "source": [
    "# a roc auc value of 0.5 indicates random decision\n",
    "# let's check how many features show a roc-auc value\n",
    "# higher than random\n",
    "\n",
    "len(roc_values[roc_values > 0.5])"
   ]
  },
  {
   "cell_type": "markdown",
   "metadata": {},
   "source": [
    "49 out of 55 show ROC values above 0.5. This means that we can remove 6 features that have ROC values under 0.5 from the test set. v36, v6, v7, v59, v99, v80."
   ]
  },
  {
   "cell_type": "code",
   "execution_count": 68,
   "metadata": {},
   "outputs": [],
   "source": [
    "X_train = X_train.drop(['v36','v6','v7','v59','v99','v80'], axis=1)\n",
    "X_test = X_test.drop(['v36','v6','v7','v59','v99','v80'], axis=1)"
   ]
  },
  {
   "cell_type": "markdown",
   "metadata": {},
   "source": [
    "Finally, I will apply the Lasso regularization method. Regularization applies a penalty to the parameters od a machine learning model. In Lasso case, the regularization penalizes some parameters by shrinking them to zero."
   ]
  },
  {
   "cell_type": "code",
   "execution_count": 83,
   "metadata": {},
   "outputs": [],
   "source": [
    "from sklearn.feature_selection import SelectFromModel\n",
    "from sklearn.ensemble import RandomForestClassifier\n",
    "from sklearn.linear_model import LogisticRegression"
   ]
  },
  {
   "cell_type": "code",
   "execution_count": 71,
   "metadata": {},
   "outputs": [
    {
     "data": {
      "text/plain": [
       "StandardScaler(copy=True, with_mean=True, with_std=True)"
      ]
     },
     "execution_count": 71,
     "metadata": {},
     "output_type": "execute_result"
    }
   ],
   "source": [
    "scaler = StandardScaler()\n",
    "scaler.fit(X_train)"
   ]
  },
  {
   "cell_type": "code",
   "execution_count": 72,
   "metadata": {},
   "outputs": [
    {
     "name": "stderr",
     "output_type": "stream",
     "text": [
      "/Users/user/anaconda3/lib/python3.6/site-packages/sklearn/linear_model/logistic.py:432: FutureWarning: Default solver will be changed to 'lbfgs' in 0.22. Specify a solver to silence this warning.\n",
      "  FutureWarning)\n"
     ]
    }
   ],
   "source": [
    "# fit a lasso and selet features, make sure to select l1\n",
    "sel_ = SelectFromModel(LogisticRegression(C=1, penalty='l1'))\n",
    "sel_.fit(scaler.transform(X_train), y_train)\n",
    "\n",
    "# remove features with zero coefficient from dataset\n",
    "# and parse again as dataframe (output of sklearn is\n",
    "# numpy array)\n",
    "X_train_lasso = pd.DataFrame(sel_.transform(X_train))\n",
    "X_test_lasso = pd.DataFrame(sel_.transform(X_test))\n",
    "\n",
    "# add the columns name\n",
    "X_train_lasso.columns = X_train.columns[(sel_.get_support())]\n",
    "X_test_lasso.columns = X_train.columns[(sel_.get_support())]"
   ]
  },
  {
   "cell_type": "code",
   "execution_count": 73,
   "metadata": {},
   "outputs": [
    {
     "data": {
      "text/plain": [
       "((33500, 48), (16500, 48))"
      ]
     },
     "execution_count": 73,
     "metadata": {},
     "output_type": "execute_result"
    }
   ],
   "source": [
    "X_train_lasso.shape, X_test_lasso.shape\n",
    "#method removed one feature"
   ]
  },
  {
   "cell_type": "markdown",
   "metadata": {},
   "source": [
    "Now I will create a machine learning pipeline. This pipeline will allow to apply the Random Forest machine learning algorithm on the original test set and a a test set that has been modified by applying the different feature selection techniques."
   ]
  },
  {
   "cell_type": "code",
   "execution_count": 84,
   "metadata": {},
   "outputs": [],
   "source": [
    "# create a function to build random forests and compare performance in train and test set\n",
    "\n",
    "def run_randomForests(X_train, X_test, y_train, y_test):\n",
    "    rf = RandomForestClassifier(n_estimators=200, random_state=39, max_depth=4)\n",
    "    rf.fit(X_train, y_train)\n",
    "    print('Train set')\n",
    "    pred = rf.predict_proba(X_train)\n",
    "    print('Random Forests roc-auc: {}'.format(roc_auc_score(y_train, pred[:,1])))\n",
    "    print('Test set')\n",
    "    pred = rf.predict_proba(X_test)\n",
    "    print('Random Forests roc-auc: {}'.format(roc_auc_score(y_test, pred[:,1])))"
   ]
  },
  {
   "cell_type": "code",
   "execution_count": 85,
   "metadata": {},
   "outputs": [
    {
     "name": "stdout",
     "output_type": "stream",
     "text": [
      "Train set\n",
      "Random Forests roc-auc: 0.7223121578348102\n",
      "Test set\n",
      "Random Forests roc-auc: 0.7126858026524834\n"
     ]
    }
   ],
   "source": [
    "# original\n",
    "run_randomForests(X_train_original, X_test_original, y_train, y_test)"
   ]
  },
  {
   "cell_type": "code",
   "execution_count": 86,
   "metadata": {},
   "outputs": [
    {
     "name": "stdout",
     "output_type": "stream",
     "text": [
      "Train set\n",
      "Random Forests roc-auc: 0.7289328873080912\n",
      "Test set\n",
      "Random Forests roc-auc: 0.721669482474151\n"
     ]
    }
   ],
   "source": [
    "# filter methods \n",
    "run_randomForests(X_train, X_test, y_train, y_test)"
   ]
  },
  {
   "cell_type": "markdown",
   "metadata": {},
   "source": [
    "Applying the variety of filter methods has yielded to only a slightly better ROC AUC score than leaving the test set as it is. That being said, it is stilla win to having a more simpler model with 48 features rather than 133."
   ]
  },
  {
   "cell_type": "code",
   "execution_count": 87,
   "metadata": {},
   "outputs": [],
   "source": [
    "from sklearn.metrics import classification_report\n",
    "def forestreports(X_train, X_test, y_train, y_test):\n",
    "    rf = RandomForestClassifier()\n",
    "    rf.fit(X_train, y_train)\n",
    "    prediction = rf.predict(X_test)\n",
    "    print(classification_report(prediction,y_test))"
   ]
  },
  {
   "cell_type": "code",
   "execution_count": 88,
   "metadata": {},
   "outputs": [
    {
     "name": "stderr",
     "output_type": "stream",
     "text": [
      "/Users/user/anaconda3/lib/python3.6/site-packages/sklearn/ensemble/forest.py:245: FutureWarning: The default value of n_estimators will change from 10 in version 0.20 to 100 in 0.22.\n",
      "  \"10 in version 0.20 to 100 in 0.22.\", FutureWarning)\n"
     ]
    },
    {
     "name": "stdout",
     "output_type": "stream",
     "text": [
      "              precision    recall  f1-score   support\n",
      "\n",
      "           0       0.30      0.44      0.35      2738\n",
      "           1       0.88      0.80      0.83     13762\n",
      "\n",
      "    accuracy                           0.74     16500\n",
      "   macro avg       0.59      0.62      0.59     16500\n",
      "weighted avg       0.78      0.74      0.75     16500\n",
      "\n"
     ]
    }
   ],
   "source": [
    "#original\n",
    "forestreports(X_train_original, X_test_original, y_train, y_test)"
   ]
  },
  {
   "cell_type": "code",
   "execution_count": 89,
   "metadata": {},
   "outputs": [
    {
     "name": "stderr",
     "output_type": "stream",
     "text": [
      "/Users/user/anaconda3/lib/python3.6/site-packages/sklearn/ensemble/forest.py:245: FutureWarning: The default value of n_estimators will change from 10 in version 0.20 to 100 in 0.22.\n",
      "  \"10 in version 0.20 to 100 in 0.22.\", FutureWarning)\n"
     ]
    },
    {
     "name": "stdout",
     "output_type": "stream",
     "text": [
      "              precision    recall  f1-score   support\n",
      "\n",
      "           0       0.32      0.47      0.38      2751\n",
      "           1       0.88      0.80      0.84     13749\n",
      "\n",
      "    accuracy                           0.75     16500\n",
      "   macro avg       0.60      0.63      0.61     16500\n",
      "weighted avg       0.79      0.75      0.76     16500\n",
      "\n"
     ]
    }
   ],
   "source": [
    "#filter methods\n",
    "forestreports(X_train, X_test, y_train, y_test)"
   ]
  },
  {
   "cell_type": "markdown",
   "metadata": {},
   "source": [
    "In conclusion, I have gone through the standard pre-processing steps:\n",
    " - enumerated string variables,\n",
    " - dealt with missing values,\n",
    " - standardized numeric values.\n",
    " \n",
    "Then, I applied the following feature selection techniques:\n",
    " - filter methods: removed constant features, duplicates and correlated features,\n",
    " - filter methods: using the F-score, kept only features with best p-values,\n",
    " - filter methods: using ROC AUC values, removed features with ROC-AUC score lower than 0.5\n",
    " - Used a hybrid feature selection techniques that did not indicate an improvement in the roc-auc score after removing indicated features.\n",
    " - embedded methods: used Lasso regularization method to remove one value that was penalized enough to represent a zero in the model.\n",
    " \n",
    "As a result I got a model that is only slightly (!) more accurate, with only slightly higher F-score, same precision for predicting target==1, but 2 percentage points higher precision predicting target==0. That being said, the result has yielded to a model that had 48 farame \n"
   ]
  }
 ],
 "metadata": {
  "kernelspec": {
   "display_name": "Python 3",
   "language": "python",
   "name": "python3"
  },
  "language_info": {
   "codemirror_mode": {
    "name": "ipython",
    "version": 3
   },
   "file_extension": ".py",
   "mimetype": "text/x-python",
   "name": "python",
   "nbconvert_exporter": "python",
   "pygments_lexer": "ipython3",
   "version": "3.6.8"
  }
 },
 "nbformat": 4,
 "nbformat_minor": 2
}
